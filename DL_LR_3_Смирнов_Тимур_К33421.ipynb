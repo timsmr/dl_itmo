{
  "nbformat": 4,
  "nbformat_minor": 0,
  "metadata": {
    "colab": {
      "provenance": [],
      "collapsed_sections": [
        "8Liw8tCV_GtV",
        "HDwhN8yV_Iub",
        "McatF7vNZVT9",
        "N3X9xQfd_Ksn",
        "9vEmzAgY_NAe",
        "Y24WoYRy_R2c",
        "wiwD4t5f_Yk_"
      ]
    },
    "kernelspec": {
      "name": "python3",
      "display_name": "Python 3"
    },
    "language_info": {
      "name": "python"
    }
  },
  "cells": [
    {
      "cell_type": "markdown",
      "source": [
        "Классифицируем ЭКГ. Требуется разработать и обучить три модели: обычную рекуррентную сеть, LSTM и GRU. Результаты сравнить, так же как и в прошлой работе - вывести графики с динамикой обучения, дать объяснение сравнительного превосходства той или иной архитектуры. Сравнить скорости обучения разных архитектур.\n"
      ],
      "metadata": {
        "id": "Wg7nlwks38ev"
      }
    },
    {
      "cell_type": "markdown",
      "source": [
        "# Imports"
      ],
      "metadata": {
        "id": "8Liw8tCV_GtV"
      }
    },
    {
      "cell_type": "code",
      "execution_count": null,
      "metadata": {
        "colab": {
          "base_uri": "https://localhost:8080/"
        },
        "id": "QGfwGq8V-Mo2",
        "outputId": "958b168e-8be0-4dc3-eb68-279c4641cfae"
      },
      "outputs": [
        {
          "output_type": "stream",
          "name": "stdout",
          "text": [
            "2.11.0\n"
          ]
        }
      ],
      "source": [
        "import numpy as np\n",
        "import pandas as pd\n",
        "\n",
        "from sklearn.preprocessing import StandardScaler\n",
        "\n",
        "import matplotlib.pyplot as plt\n",
        "import seaborn as sns\n",
        "import matplotlib.image as mpimg\n",
        "%matplotlib inline\n",
        "\n",
        "from keras.models import Sequential\n",
        "from keras.layers import Dense , Activation, Dropout, LSTM, SimpleRNN, GRU\n",
        "from keras.optimizers import Adam\n",
        "from keras import  backend as K\n",
        "from keras.utils import to_categorical, plot_model\n",
        "\n",
        "import tensorflow as tf\n",
        "\n",
        "print(tf.__version__)"
      ]
    },
    {
      "cell_type": "markdown",
      "source": [
        "# Dataset"
      ],
      "metadata": {
        "id": "HDwhN8yV_Iub"
      }
    },
    {
      "cell_type": "code",
      "source": [
        "from google.colab import drive\n",
        "drive.mount('/content/drive')"
      ],
      "metadata": {
        "colab": {
          "base_uri": "https://localhost:8080/"
        },
        "id": "pkm4gPp2LYRM",
        "outputId": "4028e820-53eb-4734-ee9f-34d19f5dc37e"
      },
      "execution_count": null,
      "outputs": [
        {
          "output_type": "stream",
          "name": "stdout",
          "text": [
            "Drive already mounted at /content/drive; to attempt to forcibly remount, call drive.mount(\"/content/drive\", force_remount=True).\n"
          ]
        }
      ]
    },
    {
      "cell_type": "code",
      "source": [
        "path = './drive/MyDrive/data/'\n",
        "\n",
        "train_data = pd.read_csv(path + 'mitbih_train.csv').sample(frac=1, random_state=42).values\n",
        "test_data = pd.read_csv(path + 'mitbih_test.csv').sample(frac=1, random_state=42).values"
      ],
      "metadata": {
        "id": "s_weyi8S_Kcu"
      },
      "execution_count": null,
      "outputs": []
    },
    {
      "cell_type": "code",
      "source": [
        "X_train = train_data[:, :-1]\n",
        "y_train = train_data[:, -1]\n",
        "\n",
        "X_test = test_data[:, :-1]\n",
        "y_test = test_data[:, -1]"
      ],
      "metadata": {
        "id": "fKuFLD1HL3zu"
      },
      "execution_count": null,
      "outputs": []
    },
    {
      "cell_type": "code",
      "source": [
        "scaler = StandardScaler()\n",
        "X_train = scaler.fit_transform(X_train)\n",
        "X_test = scaler.fit_transform(X_test)"
      ],
      "metadata": {
        "id": "1lrrwoxIP61q"
      },
      "execution_count": null,
      "outputs": []
    },
    {
      "cell_type": "code",
      "source": [
        "X_train = X_train.reshape(X_train.shape[0], 1, X_train.shape[1])\n",
        "\n",
        "X_test = X_test.reshape(X_test.shape[0], 1, X_test.shape[1])"
      ],
      "metadata": {
        "id": "amYk1EYsRjlN"
      },
      "execution_count": null,
      "outputs": []
    },
    {
      "cell_type": "code",
      "source": [
        "print(X_train.shape)\n",
        "print(np.unique(y_train))"
      ],
      "metadata": {
        "id": "_BQEM_keABaH",
        "colab": {
          "base_uri": "https://localhost:8080/"
        },
        "outputId": "bb9cb75a-fb1d-4be4-da43-a6fe3dc1490a"
      },
      "execution_count": null,
      "outputs": [
        {
          "output_type": "stream",
          "name": "stdout",
          "text": [
            "(87553, 1, 187)\n",
            "[0. 1. 2. 3. 4.]\n"
          ]
        }
      ]
    },
    {
      "cell_type": "code",
      "source": [
        "print(X_test.shape)\n",
        "print(np.unique(y_test))"
      ],
      "metadata": {
        "id": "7b3s4twPAO0F",
        "colab": {
          "base_uri": "https://localhost:8080/"
        },
        "outputId": "2217e372-fe01-440c-da29-1fea3aa5c50e"
      },
      "execution_count": null,
      "outputs": [
        {
          "output_type": "stream",
          "name": "stdout",
          "text": [
            "(21891, 1, 187)\n",
            "[0. 1. 2. 3. 4.]\n"
          ]
        }
      ]
    },
    {
      "cell_type": "code",
      "source": [
        "fig, ax = plt.subplots(1, 2, figsize=(15, 5))\n",
        "\n",
        "unique, counts = np.unique(y_train, return_counts=True)\n",
        "sns.barplot(x=unique, y=counts, ax=ax[0])\n",
        "ax[0].title.set_text('train')\n",
        "\n",
        "unique, counts = np.unique(y_test, return_counts=True)\n",
        "sns.barplot(x=unique, y=counts, ax=ax[1])\n",
        "ax[1].title.set_text('test')"
      ],
      "metadata": {
        "colab": {
          "base_uri": "https://localhost:8080/",
          "height": 336
        },
        "id": "eF9qzV04M-fY",
        "outputId": "d4cec828-333c-4454-f772-513415a7b8ea"
      },
      "execution_count": null,
      "outputs": [
        {
          "output_type": "display_data",
          "data": {
            "text/plain": [
              "<Figure size 1080x360 with 2 Axes>"
            ],
            "image/png": "[encoded data removed]"
          },
          "metadata": {
            "needs_background": "light"
          }
        }
      ]
    },
    {
      "cell_type": "code",
      "source": [
        "num_classes = len(np.unique(y_train))"
      ],
      "metadata": {
        "id": "R3fV3httZjEr"
      },
      "execution_count": null,
      "outputs": []
    },
    {
      "cell_type": "code",
      "source": [
        "y_train = to_categorical(y_train, num_classes)\n",
        "y_test = to_categorical(y_test, num_classes)"
      ],
      "metadata": {
        "id": "lwjBPMdDMe30"
      },
      "execution_count": null,
      "outputs": []
    },
    {
      "cell_type": "markdown",
      "source": [
        "# Model Settings"
      ],
      "metadata": {
        "id": "McatF7vNZVT9"
      }
    },
    {
      "cell_type": "code",
      "source": [
        "class myCallback(tf.keras.callbacks.Callback):\n",
        "  def on_epoch_end(self, epoch, logs={}):\n",
        "    if logs.get('accuracy') > 0.995:\n",
        "      print(\"\\nReached 99.5% accuracy so cancelling training!\")\n",
        "      self.model.stop_training = True\n",
        "\n",
        "callbacks = myCallback()"
      ],
      "metadata": {
        "id": "qqh6QSnKIu4N"
      },
      "execution_count": null,
      "outputs": []
    },
    {
      "cell_type": "code",
      "source": [
        "num_classes"
      ],
      "metadata": {
        "id": "Sg1ktq5qBFq-",
        "colab": {
          "base_uri": "https://localhost:8080/"
        },
        "outputId": "673a2730-43fd-480c-e5d0-7b90d45c1d5b"
      },
      "execution_count": null,
      "outputs": [
        {
          "output_type": "execute_result",
          "data": {
            "text/plain": [
              "5"
            ]
          },
          "metadata": {},
          "execution_count": 188
        }
      ]
    },
    {
      "cell_type": "code",
      "source": [
        "input_shape = X_train.shape[1:]\n",
        "input_shape"
      ],
      "metadata": {
        "id": "RiEU5TU5BIXg",
        "colab": {
          "base_uri": "https://localhost:8080/"
        },
        "outputId": "15c7858e-9f81-4c24-d437-b3cf979ad99c"
      },
      "execution_count": null,
      "outputs": [
        {
          "output_type": "execute_result",
          "data": {
            "text/plain": [
              "(1, 187)"
            ]
          },
          "metadata": {},
          "execution_count": 189
        }
      ]
    },
    {
      "cell_type": "code",
      "source": [
        "batch_size = 128"
      ],
      "metadata": {
        "id": "aV6q85MOSfVn"
      },
      "execution_count": null,
      "outputs": []
    },
    {
      "cell_type": "markdown",
      "source": [
        "# SimpleRNN"
      ],
      "metadata": {
        "id": "N3X9xQfd_Ksn"
      }
    },
    {
      "cell_type": "code",
      "source": [
        "model_rnn = Sequential([\n",
        "    SimpleRNN(64, input_shape= input_shape, activation='relu'),\n",
        "    Dropout(0.2),\n",
        "    Dense(128, activation='relu'),\n",
        "    Dropout(0.2),\n",
        "    Dense(num_classes, activation='softmax')\n",
        "])\n",
        "\n",
        "model_rnn.compile(loss='categorical_crossentropy', optimizer='adam', metrics=['accuracy'])"
      ],
      "metadata": {
        "id": "BVn2crJB_Mx8"
      },
      "execution_count": null,
      "outputs": []
    },
    {
      "cell_type": "code",
      "source": [
        "history_rnn = model_rnn.fit(X_train, y_train, epochs=20, batch_size=batch_size, validation_split=0.1, callbacks=[callbacks])"
      ],
      "metadata": {
        "colab": {
          "base_uri": "https://localhost:8080/"
        },
        "id": "fGmxBu06R5CR",
        "outputId": "e59b2718-1580-4363-ea87-13e1a39ca6a2"
      },
      "execution_count": null,
      "outputs": [
        {
          "output_type": "stream",
          "name": "stdout",
          "text": [
            "Epoch 1/20\n",
            "616/616 [==============================] - 7s 7ms/step - loss: 0.3081 - accuracy: 0.9138 - val_loss: 0.1674 - val_accuracy: 0.9533\n",
            "Epoch 2/20\n",
            "616/616 [==============================] - 4s 6ms/step - loss: 0.1800 - accuracy: 0.9505 - val_loss: 0.1314 - val_accuracy: 0.9638\n",
            "Epoch 3/20\n",
            "616/616 [==============================] - 5s 8ms/step - loss: 0.1533 - accuracy: 0.9572 - val_loss: 0.1228 - val_accuracy: 0.9659\n",
            "Epoch 4/20\n",
            "616/616 [==============================] - 5s 9ms/step - loss: 0.1401 - accuracy: 0.9612 - val_loss: 0.1143 - val_accuracy: 0.9686\n",
            "Epoch 5/20\n",
            "616/616 [==============================] - 4s 6ms/step - loss: 0.1297 - accuracy: 0.9638 - val_loss: 0.1066 - val_accuracy: 0.9685\n",
            "Epoch 6/20\n",
            "616/616 [==============================] - 4s 7ms/step - loss: 0.1224 - accuracy: 0.9659 - val_loss: 0.1016 - val_accuracy: 0.9718\n",
            "Epoch 7/20\n",
            "616/616 [==============================] - 5s 8ms/step - loss: 0.1182 - accuracy: 0.9671 - val_loss: 0.0982 - val_accuracy: 0.9721\n",
            "Epoch 8/20\n",
            "616/616 [==============================] - 4s 6ms/step - loss: 0.1145 - accuracy: 0.9683 - val_loss: 0.0962 - val_accuracy: 0.9725\n",
            "Epoch 9/20\n",
            "616/616 [==============================] - 4s 6ms/step - loss: 0.1090 - accuracy: 0.9691 - val_loss: 0.0938 - val_accuracy: 0.9722\n",
            "Epoch 10/20\n",
            "616/616 [==============================] - 7s 11ms/step - loss: 0.1051 - accuracy: 0.9699 - val_loss: 0.0952 - val_accuracy: 0.9713\n",
            "Epoch 11/20\n",
            "616/616 [==============================] - 4s 6ms/step - loss: 0.1022 - accuracy: 0.9713 - val_loss: 0.0881 - val_accuracy: 0.9737\n",
            "Epoch 12/20\n",
            "616/616 [==============================] - 4s 6ms/step - loss: 0.1020 - accuracy: 0.9712 - val_loss: 0.0894 - val_accuracy: 0.9725\n",
            "Epoch 13/20\n",
            "616/616 [==============================] - 6s 10ms/step - loss: 0.0963 - accuracy: 0.9723 - val_loss: 0.0870 - val_accuracy: 0.9743\n",
            "Epoch 14/20\n",
            "616/616 [==============================] - 5s 8ms/step - loss: 0.0962 - accuracy: 0.9719 - val_loss: 0.0854 - val_accuracy: 0.9746\n",
            "Epoch 15/20\n",
            "616/616 [==============================] - 5s 8ms/step - loss: 0.0951 - accuracy: 0.9724 - val_loss: 0.0846 - val_accuracy: 0.9751\n",
            "Epoch 16/20\n",
            "616/616 [==============================] - 7s 12ms/step - loss: 0.0930 - accuracy: 0.9737 - val_loss: 0.0821 - val_accuracy: 0.9749\n",
            "Epoch 17/20\n",
            "616/616 [==============================] - 4s 6ms/step - loss: 0.0911 - accuracy: 0.9739 - val_loss: 0.0769 - val_accuracy: 0.9764\n",
            "Epoch 18/20\n",
            "616/616 [==============================] - 6s 9ms/step - loss: 0.0889 - accuracy: 0.9745 - val_loss: 0.0789 - val_accuracy: 0.9760\n",
            "Epoch 19/20\n",
            "616/616 [==============================] - 6s 10ms/step - loss: 0.0879 - accuracy: 0.9751 - val_loss: 0.0779 - val_accuracy: 0.9774\n",
            "Epoch 20/20\n",
            "616/616 [==============================] - 5s 7ms/step - loss: 0.0876 - accuracy: 0.9745 - val_loss: 0.0760 - val_accuracy: 0.9776\n"
          ]
        }
      ]
    },
    {
      "cell_type": "code",
      "source": [
        "loss_rnn, acc_rnn = model_rnn.evaluate(X_test, y_test)\n",
        "print(\"\\nTest accuracy: %.2f%%\" % (100.0 * acc_rnn))"
      ],
      "metadata": {
        "colab": {
          "base_uri": "https://localhost:8080/"
        },
        "id": "X33qE19Ke-Jj",
        "outputId": "b01692c1-830d-49ba-cece-6c994229984e"
      },
      "execution_count": null,
      "outputs": [
        {
          "output_type": "stream",
          "name": "stdout",
          "text": [
            "685/685 [==============================] - 2s 3ms/step - loss: 0.0875 - accuracy: 0.9767\n",
            "\n",
            "Test accuracy: 97.67%\n"
          ]
        }
      ]
    },
    {
      "cell_type": "code",
      "source": [
        "fig, ax = plt.subplots(1, 2, figsize=(15, 5))\n",
        "ax[0].plot(history_rnn.history['loss'], color='b', label=\"Training Loss\")\n",
        "ax[0].plot(history_rnn.history['val_loss'], color='r', label=\"Validation Loss\",axes =ax[0])\n",
        "legend = ax[0].legend(loc='best', shadow=True)\n",
        "\n",
        "ax[1].plot(history_rnn.history['accuracy'], color='b', label=\"Training Accuracy\")\n",
        "ax[1].plot(history_rnn.history['val_accuracy'], color='r',label=\"Validation Accuracy\")\n",
        "legend = ax[1].legend(loc='best', shadow=True)"
      ],
      "metadata": {
        "colab": {
          "base_uri": "https://localhost:8080/",
          "height": 321
        },
        "id": "-Hhad40dYOnM",
        "outputId": "98c9e0b0-a7fd-401a-faee-af5d550e5dd5"
      },
      "execution_count": null,
      "outputs": [
        {
          "output_type": "display_data",
          "data": {
            "text/plain": [
              "<Figure size 1080x360 with 2 Axes>"
            ],
            "image/png": "[encoded data removed]"
          },
          "metadata": {
            "needs_background": "light"
          }
        }
      ]
    },
    {
      "cell_type": "code",
      "source": [
        "# Predict the values from the testing dataset\n",
        "Y_pred = model_rnn.predict(X_test)\n",
        "# Convert predictions classes to one hot vectors\n",
        "Y_pred_classes = np.argmax(Y_pred,axis = 1)\n",
        "# Convert testing observations to one hot vectors\n",
        "Y_true = np.argmax(y_test, axis = 1)\n",
        "# compute the confusion matrix\n",
        "confusion_mtx = tf.math.confusion_matrix(Y_true, Y_pred_classes)\n"
      ],
      "metadata": {
        "colab": {
          "base_uri": "https://localhost:8080/"
        },
        "id": "TwjEgyhac2nM",
        "outputId": "b619164e-e6e6-4709-d6dc-d4bbe145a980"
      },
      "execution_count": null,
      "outputs": [
        {
          "output_type": "stream",
          "name": "stdout",
          "text": [
            "685/685 [==============================] - 3s 3ms/step\n"
          ]
        }
      ]
    },
    {
      "cell_type": "code",
      "source": [
        "plt.figure(figsize=(10, 8))\n",
        "sns.heatmap(confusion_mtx, annot=True, fmt='g')"
      ],
      "metadata": {
        "colab": {
          "base_uri": "https://localhost:8080/",
          "height": 500
        },
        "id": "tHeDCEkrc6B-",
        "outputId": "de30333a-3c38-49f0-a77f-34a3aa08ff53"
      },
      "execution_count": null,
      "outputs": [
        {
          "output_type": "execute_result",
          "data": {
            "text/plain": [
              "<Axes: >"
            ]
          },
          "metadata": {},
          "execution_count": 218
        },
        {
          "output_type": "display_data",
          "data": {
            "text/plain": [
              "<Figure size 720x576 with 2 Axes>"
            ],
            "image/png": "[encoded data removed]"
          },
          "metadata": {
            "needs_background": "light"
          }
        }
      ]
    },
    {
      "cell_type": "markdown",
      "source": [
        "# LSTM"
      ],
      "metadata": {
        "id": "9vEmzAgY_NAe"
      }
    },
    {
      "cell_type": "code",
      "source": [
        "model_lstm = Sequential([\n",
        "    LSTM(64, input_shape=input_shape),\n",
        "    Dropout(0.2),\n",
        "    Dense(128, activation='relu'),\n",
        "    Dropout(0.2),\n",
        "    Dense(num_classes, activation='softmax')\n",
        "])\n",
        "\n",
        "model_lstm.compile(loss='categorical_crossentropy', optimizer='adam', metrics=['accuracy'])"
      ],
      "metadata": {
        "id": "6wiisUFG_Rfg"
      },
      "execution_count": null,
      "outputs": []
    },
    {
      "cell_type": "code",
      "source": [
        "history_lstm = model_lstm.fit(X_train, y_train, epochs=20, batch_size=batch_size, validation_split=0.1, callbacks=[callbacks])"
      ],
      "metadata": {
        "colab": {
          "base_uri": "https://localhost:8080/"
        },
        "id": "J-hrgwaZTaiM",
        "outputId": "4b00e8bf-1f68-4030-b2e7-24f5b934be37"
      },
      "execution_count": null,
      "outputs": [
        {
          "output_type": "stream",
          "name": "stdout",
          "text": [
            "Epoch 1/20\n",
            "616/616 [==============================] - 12s 15ms/step - loss: 0.2706 - accuracy: 0.9279 - val_loss: 0.1431 - val_accuracy: 0.9605\n",
            "Epoch 2/20\n",
            "616/616 [==============================] - 8s 13ms/step - loss: 0.1430 - accuracy: 0.9611 - val_loss: 0.1125 - val_accuracy: 0.9685\n",
            "Epoch 3/20\n",
            "616/616 [==============================] - 8s 13ms/step - loss: 0.1191 - accuracy: 0.9661 - val_loss: 0.0970 - val_accuracy: 0.9733\n",
            "Epoch 4/20\n",
            "616/616 [==============================] - 7s 11ms/step - loss: 0.1047 - accuracy: 0.9703 - val_loss: 0.0901 - val_accuracy: 0.9735\n",
            "Epoch 5/20\n",
            "616/616 [==============================] - 8s 12ms/step - loss: 0.0965 - accuracy: 0.9723 - val_loss: 0.0848 - val_accuracy: 0.9733\n",
            "Epoch 6/20\n",
            "616/616 [==============================] - 5s 9ms/step - loss: 0.0893 - accuracy: 0.9742 - val_loss: 0.0853 - val_accuracy: 0.9737\n",
            "Epoch 7/20\n",
            "616/616 [==============================] - 7s 11ms/step - loss: 0.0843 - accuracy: 0.9755 - val_loss: 0.0783 - val_accuracy: 0.9753\n",
            "Epoch 8/20\n",
            "616/616 [==============================] - 5s 9ms/step - loss: 0.0786 - accuracy: 0.9772 - val_loss: 0.0775 - val_accuracy: 0.9764\n",
            "Epoch 9/20\n",
            "616/616 [==============================] - 6s 9ms/step - loss: 0.0768 - accuracy: 0.9773 - val_loss: 0.0789 - val_accuracy: 0.9753\n",
            "Epoch 10/20\n",
            "616/616 [==============================] - 7s 11ms/step - loss: 0.0733 - accuracy: 0.9783 - val_loss: 0.0744 - val_accuracy: 0.9775\n",
            "Epoch 11/20\n",
            "616/616 [==============================] - 5s 9ms/step - loss: 0.0712 - accuracy: 0.9789 - val_loss: 0.0747 - val_accuracy: 0.9767\n",
            "Epoch 12/20\n",
            "616/616 [==============================] - 7s 11ms/step - loss: 0.0696 - accuracy: 0.9792 - val_loss: 0.0767 - val_accuracy: 0.9770\n",
            "Epoch 13/20\n",
            "616/616 [==============================] - 6s 10ms/step - loss: 0.0662 - accuracy: 0.9806 - val_loss: 0.0782 - val_accuracy: 0.9767\n",
            "Epoch 14/20\n",
            "616/616 [==============================] - 13s 20ms/step - loss: 0.0636 - accuracy: 0.9809 - val_loss: 0.0718 - val_accuracy: 0.9780\n",
            "Epoch 15/20\n",
            "616/616 [==============================] - 12s 20ms/step - loss: 0.0643 - accuracy: 0.9809 - val_loss: 0.0740 - val_accuracy: 0.9773\n",
            "Epoch 16/20\n",
            "616/616 [==============================] - 10s 16ms/step - loss: 0.0601 - accuracy: 0.9816 - val_loss: 0.0699 - val_accuracy: 0.9784\n",
            "Epoch 17/20\n",
            "616/616 [==============================] - 7s 11ms/step - loss: 0.0604 - accuracy: 0.9822 - val_loss: 0.0741 - val_accuracy: 0.9772\n",
            "Epoch 18/20\n",
            "616/616 [==============================] - 5s 9ms/step - loss: 0.0568 - accuracy: 0.9826 - val_loss: 0.0679 - val_accuracy: 0.9789\n",
            "Epoch 19/20\n",
            "616/616 [==============================] - 7s 11ms/step - loss: 0.0566 - accuracy: 0.9828 - val_loss: 0.0674 - val_accuracy: 0.9791\n",
            "Epoch 20/20\n",
            "616/616 [==============================] - 5s 9ms/step - loss: 0.0551 - accuracy: 0.9834 - val_loss: 0.0731 - val_accuracy: 0.9790\n"
          ]
        }
      ]
    },
    {
      "cell_type": "code",
      "source": [
        "fig, ax = plt.subplots(1, 2, figsize=(15, 5))\n",
        "ax[0].plot(history_lstm.history['loss'], color='b', label=\"Training Loss\")\n",
        "ax[0].plot(history_lstm.history['val_loss'], color='r', label=\"Validation Loss\",axes =ax[0])\n",
        "legend = ax[0].legend(loc='best', shadow=True)\n",
        "\n",
        "ax[1].plot(history_lstm.history['accuracy'], color='b', label=\"Training Accuracy\")\n",
        "ax[1].plot(history_lstm.history['val_accuracy'], color='r',label=\"Validation Accuracy\")\n",
        "legend = ax[1].legend(loc='best', shadow=True)"
      ],
      "metadata": {
        "colab": {
          "base_uri": "https://localhost:8080/",
          "height": 320
        },
        "id": "5KXSV8C6Y3Ay",
        "outputId": "225138a1-6d75-4b93-c78a-4b05f1d73224"
      },
      "execution_count": null,
      "outputs": [
        {
          "output_type": "display_data",
          "data": {
            "text/plain": [
              "<Figure size 1080x360 with 2 Axes>"
            ],
            "image/png": "[encoded data removed]"
          },
          "metadata": {
            "needs_background": "light"
          }
        }
      ]
    },
    {
      "cell_type": "code",
      "source": [
        "# Predict the values from the testing dataset\n",
        "Y_pred = model_lstm.predict(X_test)\n",
        "# Convert predictions classes to one hot vectors\n",
        "Y_pred_classes = np.argmax(Y_pred,axis = 1)\n",
        "# Convert testing observations to one hot vectors\n",
        "Y_true = np.argmax(y_test, axis = 1)\n",
        "# compute the confusion matrix\n",
        "confusion_mtx = tf.math.confusion_matrix(Y_true, Y_pred_classes)\n"
      ],
      "metadata": {
        "colab": {
          "base_uri": "https://localhost:8080/"
        },
        "id": "hRtQbLlYcvoC",
        "outputId": "235ba18b-d58a-4887-97af-f38c938c65d5"
      },
      "execution_count": null,
      "outputs": [
        {
          "output_type": "stream",
          "name": "stdout",
          "text": [
            "685/685 [==============================] - 2s 3ms/step\n"
          ]
        }
      ]
    },
    {
      "cell_type": "code",
      "source": [
        "loss_lstm, acc_lstm = model_lstm.evaluate(X_test, y_test)\n",
        "print(\"\\nTest accuracy: %.2f%%\" % (100.0 * acc_lstm))"
      ],
      "metadata": {
        "colab": {
          "base_uri": "https://localhost:8080/"
        },
        "id": "I4oCXys6Y1yb",
        "outputId": "6dd61b65-b1e6-4fc7-9b2e-011e2eabafec"
      },
      "execution_count": null,
      "outputs": [
        {
          "output_type": "stream",
          "name": "stdout",
          "text": [
            "685/685 [==============================] - 2s 3ms/step - loss: 0.0858 - accuracy: 0.9783\n",
            "\n",
            "Test accuracy: 97.83%\n"
          ]
        }
      ]
    },
    {
      "cell_type": "code",
      "source": [
        "plt.figure(figsize=(10, 8))\n",
        "sns.heatmap(confusion_mtx, annot=True, fmt='g')"
      ],
      "metadata": {
        "colab": {
          "base_uri": "https://localhost:8080/",
          "height": 500
        },
        "id": "zQLaZec2c0LJ",
        "outputId": "c7555a81-9b15-4286-b7b8-cd9c204d191e"
      },
      "execution_count": null,
      "outputs": [
        {
          "output_type": "execute_result",
          "data": {
            "text/plain": [
              "<Axes: >"
            ]
          },
          "metadata": {},
          "execution_count": 220
        },
        {
          "output_type": "display_data",
          "data": {
            "text/plain": [
              "<Figure size 720x576 with 2 Axes>"
            ],
            "image/png": "[encoded data removed]"
          },
          "metadata": {
            "needs_background": "light"
          }
        }
      ]
    },
    {
      "cell_type": "markdown",
      "source": [
        "# GRU"
      ],
      "metadata": {
        "id": "Y24WoYRy_R2c"
      }
    },
    {
      "cell_type": "code",
      "source": [
        "model_gru = Sequential([\n",
        "    GRU(64, input_shape=input_shape),\n",
        "    Dropout(0.2),\n",
        "    Dense(128, activation='relu'),\n",
        "    Dropout(0.2),\n",
        "    Dense(num_classes, activation='softmax')\n",
        "])\n",
        "\n",
        "model_gru.compile(loss='categorical_crossentropy', optimizer='adam', metrics=['accuracy'])"
      ],
      "metadata": {
        "id": "ioYDdNmW_YJB"
      },
      "execution_count": null,
      "outputs": []
    },
    {
      "cell_type": "code",
      "source": [
        "history_gru = model_gru.fit(X_train, y_train, epochs=20, batch_size=batch_size, validation_split=0.1, callbacks=[callbacks])"
      ],
      "metadata": {
        "colab": {
          "base_uri": "https://localhost:8080/"
        },
        "id": "iGVxKs0lXHwv",
        "outputId": "a50a825e-122f-42cf-fcf5-bec2f678e6e1"
      },
      "execution_count": null,
      "outputs": [
        {
          "output_type": "stream",
          "name": "stdout",
          "text": [
            "Epoch 1/20\n",
            "616/616 [==============================] - 15s 13ms/step - loss: 0.2721 - accuracy: 0.9245 - val_loss: 0.1518 - val_accuracy: 0.9593\n",
            "Epoch 2/20\n",
            "616/616 [==============================] - 9s 15ms/step - loss: 0.1513 - accuracy: 0.9587 - val_loss: 0.1149 - val_accuracy: 0.9677\n",
            "Epoch 3/20\n",
            "616/616 [==============================] - 6s 9ms/step - loss: 0.1257 - accuracy: 0.9654 - val_loss: 0.1058 - val_accuracy: 0.9695\n",
            "Epoch 4/20\n",
            "616/616 [==============================] - 9s 15ms/step - loss: 0.1126 - accuracy: 0.9688 - val_loss: 0.0955 - val_accuracy: 0.9711\n",
            "Epoch 5/20\n",
            "616/616 [==============================] - 5s 9ms/step - loss: 0.1028 - accuracy: 0.9710 - val_loss: 0.0869 - val_accuracy: 0.9738\n",
            "Epoch 6/20\n",
            "616/616 [==============================] - 10s 16ms/step - loss: 0.0969 - accuracy: 0.9722 - val_loss: 0.0890 - val_accuracy: 0.9738\n",
            "Epoch 7/20\n",
            "616/616 [==============================] - 5s 8ms/step - loss: 0.0928 - accuracy: 0.9736 - val_loss: 0.0835 - val_accuracy: 0.9745\n",
            "Epoch 8/20\n",
            "616/616 [==============================] - 9s 14ms/step - loss: 0.0881 - accuracy: 0.9747 - val_loss: 0.0771 - val_accuracy: 0.9767\n",
            "Epoch 9/20\n",
            "616/616 [==============================] - 6s 10ms/step - loss: 0.0823 - accuracy: 0.9765 - val_loss: 0.0734 - val_accuracy: 0.9780\n",
            "Epoch 10/20\n",
            "616/616 [==============================] - 11s 18ms/step - loss: 0.0807 - accuracy: 0.9764 - val_loss: 0.0731 - val_accuracy: 0.9767\n",
            "Epoch 11/20\n",
            "616/616 [==============================] - 5s 9ms/step - loss: 0.0783 - accuracy: 0.9767 - val_loss: 0.0694 - val_accuracy: 0.9788\n",
            "Epoch 12/20\n",
            "616/616 [==============================] - 7s 11ms/step - loss: 0.0775 - accuracy: 0.9779 - val_loss: 0.0702 - val_accuracy: 0.9778\n",
            "Epoch 13/20\n",
            "616/616 [==============================] - 5s 8ms/step - loss: 0.0731 - accuracy: 0.9783 - val_loss: 0.0688 - val_accuracy: 0.9792\n",
            "Epoch 14/20\n",
            "616/616 [==============================] - 5s 9ms/step - loss: 0.0707 - accuracy: 0.9793 - val_loss: 0.0653 - val_accuracy: 0.9802\n",
            "Epoch 15/20\n",
            "616/616 [==============================] - 6s 10ms/step - loss: 0.0698 - accuracy: 0.9794 - val_loss: 0.0681 - val_accuracy: 0.9797\n",
            "Epoch 16/20\n",
            "616/616 [==============================] - 6s 11ms/step - loss: 0.0677 - accuracy: 0.9801 - val_loss: 0.0641 - val_accuracy: 0.9793\n",
            "Epoch 17/20\n",
            "616/616 [==============================] - 10s 17ms/step - loss: 0.0665 - accuracy: 0.9802 - val_loss: 0.0642 - val_accuracy: 0.9796\n",
            "Epoch 18/20\n",
            "616/616 [==============================] - 8s 14ms/step - loss: 0.0641 - accuracy: 0.9807 - val_loss: 0.0691 - val_accuracy: 0.9792\n",
            "Epoch 19/20\n",
            "616/616 [==============================] - 10s 16ms/step - loss: 0.0644 - accuracy: 0.9810 - val_loss: 0.0632 - val_accuracy: 0.9805\n",
            "Epoch 20/20\n",
            "616/616 [==============================] - 8s 13ms/step - loss: 0.0628 - accuracy: 0.9814 - val_loss: 0.0650 - val_accuracy: 0.9797\n"
          ]
        }
      ]
    },
    {
      "cell_type": "code",
      "source": [
        "loss_gru, acc_gru = model_gru.evaluate(X_test, y_test)\n",
        "print(\"\\nTest accuracy: %.2f%%\" % (100.0 * acc_gru))"
      ],
      "metadata": {
        "colab": {
          "base_uri": "https://localhost:8080/"
        },
        "id": "wbBBn0QUZF5Q",
        "outputId": "cf9ea524-faa3-4f15-dc0e-c0c069036eed"
      },
      "execution_count": null,
      "outputs": [
        {
          "output_type": "stream",
          "name": "stdout",
          "text": [
            "685/685 [==============================] - 2s 3ms/step - loss: 0.0778 - accuracy: 0.9789\n",
            "\n",
            "Test accuracy: 97.89%\n"
          ]
        }
      ]
    },
    {
      "cell_type": "code",
      "source": [
        "fig, ax = plt.subplots(1, 2, figsize=(15, 5))\n",
        "ax[0].plot(history_gru.history['loss'], color='b', label=\"Training Loss\")\n",
        "ax[0].plot(history_gru.history['val_loss'], color='r', label=\"Validation Loss\",axes =ax[0])\n",
        "legend = ax[0].legend(loc='best', shadow=True)\n",
        "\n",
        "ax[1].plot(history_gru.history['accuracy'], color='b', label=\"Training Accuracy\")\n",
        "ax[1].plot(history_gru.history['val_accuracy'], color='r',label=\"Validation Accuracy\")\n",
        "legend = ax[1].legend(loc='best', shadow=True)"
      ],
      "metadata": {
        "colab": {
          "base_uri": "https://localhost:8080/",
          "height": 320
        },
        "id": "BkoR_0JYZHUX",
        "outputId": "8efdb951-b483-4cbe-e7be-a368bb8bf764"
      },
      "execution_count": null,
      "outputs": [
        {
          "output_type": "display_data",
          "data": {
            "text/plain": [
              "<Figure size 1080x360 with 2 Axes>"
            ],
            "image/png": "[encoded data removed]"
          },
          "metadata": {
            "needs_background": "light"
          }
        }
      ]
    },
    {
      "cell_type": "code",
      "source": [
        "# Predict the values from the testing dataset\n",
        "Y_pred = model_gru.predict(X_test)\n",
        "# Convert predictions classes to one hot vectors\n",
        "Y_pred_classes = np.argmax(Y_pred,axis = 1)\n",
        "# Convert testing observations to one hot vectors\n",
        "Y_true = np.argmax(y_test, axis = 1)\n",
        "# compute the confusion matrix\n",
        "confusion_mtx = tf.math.confusion_matrix(Y_true, Y_pred_classes)\n"
      ],
      "metadata": {
        "colab": {
          "base_uri": "https://localhost:8080/"
        },
        "id": "T4Jr9HJtcfU3",
        "outputId": "bff28d6b-44ed-4b2b-e6eb-2e6e55c5dbb3"
      },
      "execution_count": null,
      "outputs": [
        {
          "output_type": "stream",
          "name": "stdout",
          "text": [
            "685/685 [==============================] - 2s 2ms/step\n"
          ]
        }
      ]
    },
    {
      "cell_type": "code",
      "source": [
        "plt.figure(figsize=(10, 8))\n",
        "sns.heatmap(confusion_mtx, annot=True, fmt='g')"
      ],
      "metadata": {
        "colab": {
          "base_uri": "https://localhost:8080/",
          "height": 500
        },
        "id": "B7y8MRTrcmHz",
        "outputId": "a2c96ba8-c66b-413d-cecf-83de5b07dfa5"
      },
      "execution_count": null,
      "outputs": [
        {
          "output_type": "execute_result",
          "data": {
            "text/plain": [
              "<Axes: >"
            ]
          },
          "metadata": {},
          "execution_count": 216
        },
        {
          "output_type": "display_data",
          "data": {
            "text/plain": [
              "<Figure size 720x576 with 2 Axes>"
            ],
            "image/png": "[encoded data removed]"
          },
          "metadata": {
            "needs_background": "light"
          }
        }
      ]
    },
    {
      "cell_type": "markdown",
      "source": [
        "# Results"
      ],
      "metadata": {
        "id": "wiwD4t5f_Yk_"
      }
    },
    {
      "cell_type": "code",
      "source": [
        "print(\"\\nTest accuracy RNN: %.2f%%\" % (100.0 * acc_rnn))\n",
        "print(\"\\nTest accuracy LSTM: %.2f%%\" % (100.0 * acc_lstm))\n",
        "print(\"\\nTest accuracy GRU: %.2f%%\" % (100.0 * acc_gru))"
      ],
      "metadata": {
        "colab": {
          "base_uri": "https://localhost:8080/"
        },
        "id": "ECld4NK2YH82",
        "outputId": "8cef0952-e621-498c-f790-976007d6951d"
      },
      "execution_count": null,
      "outputs": [
        {
          "output_type": "stream",
          "name": "stdout",
          "text": [
            "\n",
            "Test accuracy RNN: 97.67%\n",
            "\n",
            "Test accuracy LSTM: 97.83%\n",
            "\n",
            "Test accuracy GRU: 97.89%\n"
          ]
        }
      ]
    },
    {
      "cell_type": "markdown",
      "source": [
        "Было выявлено, что LSTM и GRU показывают себя лучше всего и отличаются друг от друга на несколько сотых процента в зависимости от random_state при перемешивании датасета.\n",
        "\n",
        "Датасет был перемешан из-за того, что изначальный датасет был отсортирован по классу.\n",
        "\n",
        "В любом случае, SimpleRNN показывала себя хуже всего.  \n",
        "\n",
        "Также, было выявлено, что данный датасет имеет большое количество сэмплов с классом 0 и крайне малое количество с классами 1-4, из-за чего все модели плохо предсказывают остальные классы (это можно увидеть из confusion матрицы)"
      ],
      "metadata": {
        "id": "MyZni812asj_"
      }
    }
  ]
}