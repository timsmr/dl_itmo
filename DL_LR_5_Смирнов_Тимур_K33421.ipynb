{
  "cells": [
    {
      "cell_type": "markdown",
      "source": [
        "Датасет: https://www.kaggle.com/datasets/paramaggarwal/fashion-product-images-small, классификация изображений."
      ],
      "metadata": {
        "id": "Y-Ft1oPb4QK5"
      }
    },
    {
      "cell_type": "markdown",
      "metadata": {
        "id": "sSOUFQH9UR4E"
      },
      "source": [
        " В датасете несколько разных классификаций, используйте \"subCategory\" в качестве рабочей. Задача - обучить обычную CNN и Resnet50 на этом наборе с иллюстрацией процесса обучения для обеих моделей и выводом времени обучения (при равном количестве эпох), а затем обучить те же модели (без запоминания весов, т.е. сначала), но вчетверо уменьшить размеры обучающей выборки (удалить 3/4 картинок из каждого класса). Сделать вывод относительно того, как показывают себя обе модели в условиях меньшего количества обучающих данных."
      ]
    },
    {
      "cell_type": "markdown",
      "source": [
        "# Библиотеки"
      ],
      "metadata": {
        "id": "jcXKMDswLC2H"
      }
    },
    {
      "cell_type": "code",
      "execution_count": null,
      "metadata": {
        "colab": {
          "base_uri": "https://localhost:8080/"
        },
        "id": "EsAfnzQpmyp4",
        "outputId": "390e8e91-22e1-42b6-e76c-d14c97cef412"
      },
      "outputs": [
        {
          "output_type": "stream",
          "name": "stdout",
          "text": [
            "Looking in indexes: https://pypi.org/simple, https://us-python.pkg.dev/colab-wheels/public/simple/\n",
            "Collecting opendatasets\n",
            "  Downloading opendatasets-0.1.22-py3-none-any.whl (15 kB)\n",
            "Requirement already satisfied: pip in /usr/local/lib/python3.10/dist-packages (23.0.1)\n",
            "Collecting install\n",
            "  Downloading install-1.3.5-py3-none-any.whl (3.2 kB)\n",
            "Collecting Keras-Preprocessing\n",
            "  Downloading Keras_Preprocessing-1.1.2-py2.py3-none-any.whl (42 kB)\n",
            "\u001b[2K     \u001b[90m━━━━━━━━━━━━━━━━━━━━━━━━━━━━━━━━━━━━━━━\u001b[0m \u001b[32m42.6/42.6 kB\u001b[0m \u001b[31m625.0 kB/s\u001b[0m eta \u001b[36m0:00:00\u001b[0m\n",
            "\u001b[?25hRequirement already satisfied: tqdm in /usr/local/lib/python3.10/dist-packages (from opendatasets) (4.65.0)\n",
            "Requirement already satisfied: kaggle in /usr/local/lib/python3.10/dist-packages (from opendatasets) (1.5.13)\n",
            "Requirement already satisfied: click in /usr/local/lib/python3.10/dist-packages (from opendatasets) (8.1.3)\n",
            "Requirement already satisfied: six>=1.9.0 in /usr/local/lib/python3.10/dist-packages (from Keras-Preprocessing) (1.16.0)\n",
            "Requirement already satisfied: numpy>=1.9.1 in /usr/local/lib/python3.10/dist-packages (from Keras-Preprocessing) (1.22.4)\n",
            "Requirement already satisfied: python-dateutil in /usr/local/lib/python3.10/dist-packages (from kaggle->opendatasets) (2.8.2)\n",
            "Requirement already satisfied: python-slugify in /usr/local/lib/python3.10/dist-packages (from kaggle->opendatasets) (8.0.1)\n",
            "Requirement already satisfied: urllib3 in /usr/local/lib/python3.10/dist-packages (from kaggle->opendatasets) (1.26.15)\n",
            "Requirement already satisfied: requests in /usr/local/lib/python3.10/dist-packages (from kaggle->opendatasets) (2.27.1)\n",
            "Requirement already satisfied: certifi in /usr/local/lib/python3.10/dist-packages (from kaggle->opendatasets) (2022.12.7)\n",
            "Requirement already satisfied: text-unidecode>=1.3 in /usr/local/lib/python3.10/dist-packages (from python-slugify->kaggle->opendatasets) (1.3)\n",
            "Requirement already satisfied: charset-normalizer~=2.0.0 in /usr/local/lib/python3.10/dist-packages (from requests->kaggle->opendatasets) (2.0.12)\n",
            "Requirement already satisfied: idna<4,>=2.5 in /usr/local/lib/python3.10/dist-packages (from requests->kaggle->opendatasets) (3.4)\n",
            "Installing collected packages: Keras-Preprocessing, install, opendatasets\n",
            "Successfully installed Keras-Preprocessing-1.1.2 install-1.3.5 opendatasets-0.1.22\n"
          ]
        }
      ],
      "source": [
        "!pip install opendatasets pip install Keras-Preprocessing"
      ]
    },
    {
      "cell_type": "code",
      "execution_count": null,
      "metadata": {
        "id": "S0Enu4xI8h3V"
      },
      "outputs": [],
      "source": [
        "import opendatasets as od"
      ]
    },
    {
      "cell_type": "code",
      "execution_count": null,
      "metadata": {
        "colab": {
          "base_uri": "https://localhost:8080/"
        },
        "id": "s0mW6TLQ8lLE",
        "outputId": "5d3ce325-52cb-4bcd-87ce-a5b3432bb892"
      },
      "outputs": [
        {
          "output_type": "stream",
          "name": "stdout",
          "text": [
            "Downloading fashion-product-images-small.zip to ./fashion-product-images-small\n"
          ]
        },
        {
          "output_type": "stream",
          "name": "stderr",
          "text": [
            "100%|██████████| 565M/565M [00:25<00:00, 23.2MB/s]\n"
          ]
        },
        {
          "output_type": "stream",
          "name": "stdout",
          "text": [
            "\n"
          ]
        }
      ],
      "source": [
        "od.download(\"https://www.kaggle.com/datasets/paramaggarwal/fashion-product-images-small\")"
      ]
    },
    {
      "cell_type": "code",
      "execution_count": null,
      "metadata": {
        "id": "INybHm1ABK_J"
      },
      "outputs": [],
      "source": [
        "from sklearn.preprocessing import StandardScaler\n",
        "import matplotlib.pyplot as plt\n",
        "import numpy as np\n",
        "import pandas as pd\n",
        "import seaborn as sns\n",
        "import os\n",
        "import cv2\n",
        "import warnings\n",
        "import tensorflow as tf\n",
        "import keras\n",
        "from keras import Model\n",
        "from tensorflow.keras.applications.resnet50 import ResNet50\n",
        "from tensorflow.keras.layers import GlobalMaxPooling2D, Dense, Conv2D, MaxPooling2D, Flatten\n",
        "warnings.filterwarnings(action = 'ignore')\n"
      ]
    },
    {
      "cell_type": "code",
      "source": [
        "sns.set(font_scale=0.5)"
      ],
      "metadata": {
        "id": "ILOk531Yi8AZ"
      },
      "execution_count": null,
      "outputs": []
    },
    {
      "cell_type": "code",
      "source": [
        "tf.test.gpu_device_name()"
      ],
      "metadata": {
        "colab": {
          "base_uri": "https://localhost:8080/",
          "height": 35
        },
        "id": "w1Gy_x7IhJGm",
        "outputId": "ad4e77e3-190f-4132-b56b-0cf382e52a34"
      },
      "execution_count": null,
      "outputs": [
        {
          "output_type": "execute_result",
          "data": {
            "text/plain": [
              "'/device:GPU:0'"
            ],
            "application/vnd.google.colaboratory.intrinsic+json": {
              "type": "string"
            }
          },
          "metadata": {},
          "execution_count": 6
        }
      ]
    },
    {
      "cell_type": "code",
      "source": [
        "print(\"Num GPUs Available: \", len(tf.config.list_physical_devices('GPU')))"
      ],
      "metadata": {
        "colab": {
          "base_uri": "https://localhost:8080/"
        },
        "id": "PUxALom20bgK",
        "outputId": "6b40f5ba-1466-4bfe-ac14-2aeb96c1b6c4"
      },
      "execution_count": null,
      "outputs": [
        {
          "output_type": "stream",
          "name": "stdout",
          "text": [
            "Num GPUs Available:  1\n"
          ]
        }
      ]
    },
    {
      "cell_type": "code",
      "source": [
        "sess = tf.compat.v1.Session(config=tf.compat.v1.ConfigProto(log_device_placement=True))"
      ],
      "metadata": {
        "colab": {
          "base_uri": "https://localhost:8080/"
        },
        "id": "hBsDi6K-00Fd",
        "outputId": "2b02f12c-1dcf-4ad2-99c9-6fc89719ee88"
      },
      "execution_count": null,
      "outputs": [
        {
          "output_type": "stream",
          "name": "stdout",
          "text": [
            "Device mapping:\n",
            "/job:localhost/replica:0/task:0/device:GPU:0 -> device: 0, name: Tesla T4, pci bus id: 0000:00:04.0, compute capability: 7.5\n",
            "\n"
          ]
        }
      ]
    },
    {
      "cell_type": "code",
      "source": [
        "from tensorflow.python.client import device_lib\n",
        "print(device_lib.list_local_devices())"
      ],
      "metadata": {
        "colab": {
          "base_uri": "https://localhost:8080/"
        },
        "id": "EOsDpsLq05mJ",
        "outputId": "1263f431-11c7-48a4-f110-d1df31a1b8a9"
      },
      "execution_count": null,
      "outputs": [
        {
          "output_type": "stream",
          "name": "stdout",
          "text": [
            "[name: \"/device:CPU:0\"\n",
            "device_type: \"CPU\"\n",
            "memory_limit: 268435456\n",
            "locality {\n",
            "}\n",
            "incarnation: 8442822493392164843\n",
            "xla_global_id: -1\n",
            ", name: \"/device:GPU:0\"\n",
            "device_type: \"GPU\"\n",
            "memory_limit: 14343274496\n",
            "locality {\n",
            "  bus_id: 1\n",
            "  links {\n",
            "  }\n",
            "}\n",
            "incarnation: 712758006824639816\n",
            "physical_device_desc: \"device: 0, name: Tesla T4, pci bus id: 0000:00:04.0, compute capability: 7.5\"\n",
            "xla_global_id: 416903419\n",
            "]\n"
          ]
        }
      ]
    },
    {
      "cell_type": "markdown",
      "source": [
        "# Датасет"
      ],
      "metadata": {
        "id": "fiGxL3_ELBMc"
      }
    },
    {
      "cell_type": "code",
      "execution_count": null,
      "metadata": {
        "colab": {
          "base_uri": "https://localhost:8080/"
        },
        "id": "tbzBYXGEWMoj",
        "outputId": "90c53c22-678d-4c14-fe1d-eefb4fae55a5"
      },
      "outputs": [
        {
          "output_type": "stream",
          "name": "stdout",
          "text": [
            "['styles.csv', 'images']\n"
          ]
        }
      ],
      "source": [
        "DATASET_PATH = \"./fashion-product-images-small/myntradataset/\"\n",
        "print(os.listdir(DATASET_PATH))"
      ]
    },
    {
      "cell_type": "code",
      "execution_count": null,
      "metadata": {
        "colab": {
          "base_uri": "https://localhost:8080/",
          "height": 605
        },
        "id": "BZhkORWwWXHp",
        "outputId": "c29da496-f012-4951-86b1-f2800ecf22ab"
      },
      "outputs": [
        {
          "output_type": "stream",
          "name": "stderr",
          "text": [
            "Skipping line 6044: expected 10 fields, saw 11\n",
            "Skipping line 6569: expected 10 fields, saw 11\n",
            "Skipping line 7399: expected 10 fields, saw 11\n",
            "Skipping line 7939: expected 10 fields, saw 11\n",
            "Skipping line 9026: expected 10 fields, saw 11\n",
            "Skipping line 10264: expected 10 fields, saw 11\n",
            "Skipping line 10427: expected 10 fields, saw 11\n",
            "Skipping line 10905: expected 10 fields, saw 11\n",
            "Skipping line 11373: expected 10 fields, saw 11\n",
            "Skipping line 11945: expected 10 fields, saw 11\n",
            "Skipping line 14112: expected 10 fields, saw 11\n",
            "Skipping line 14532: expected 10 fields, saw 11\n",
            "Skipping line 15076: expected 10 fields, saw 12\n",
            "Skipping line 29906: expected 10 fields, saw 11\n",
            "Skipping line 31625: expected 10 fields, saw 11\n",
            "Skipping line 33020: expected 10 fields, saw 11\n",
            "Skipping line 35748: expected 10 fields, saw 11\n",
            "Skipping line 35962: expected 10 fields, saw 11\n",
            "Skipping line 37770: expected 10 fields, saw 11\n",
            "Skipping line 38105: expected 10 fields, saw 11\n",
            "Skipping line 38275: expected 10 fields, saw 11\n",
            "Skipping line 38404: expected 10 fields, saw 12\n",
            "\n"
          ]
        },
        {
          "output_type": "execute_result",
          "data": {
            "text/plain": [
              "      id gender masterCategory subCategory  articleType baseColour  season  \\\n",
              "0  15970    Men        Apparel     Topwear       Shirts  Navy Blue    Fall   \n",
              "1  39386    Men        Apparel  Bottomwear        Jeans       Blue  Summer   \n",
              "2  59263  Women    Accessories     Watches      Watches     Silver  Winter   \n",
              "3  21379    Men        Apparel  Bottomwear  Track Pants      Black    Fall   \n",
              "4  53759    Men        Apparel     Topwear      Tshirts       Grey  Summer   \n",
              "\n",
              "     year   usage                             productDisplayName      image  \n",
              "0  2011.0  Casual               Turtle Check Men Navy Blue Shirt  15970.jpg  \n",
              "1  2012.0  Casual             Peter England Men Party Blue Jeans  39386.jpg  \n",
              "2  2016.0  Casual                       Titan Women Silver Watch  59263.jpg  \n",
              "3  2011.0  Casual  Manchester United Men Solid Black Track Pants  21379.jpg  \n",
              "4  2012.0  Casual                          Puma Men Grey T-shirt  53759.jpg  "
            ],
            "text/html": [
              "\n",
              "  <div id=\"df-972c016a-e574-48d2-a003-02598f617cbb\">\n",
              "    <div class=\"colab-df-container\">\n",
              "      <div>\n",
              "<style scoped>\n",
              "    .dataframe tbody tr th:only-of-type {\n",
              "        vertical-align: middle;\n",
              "    }\n",
              "\n",
              "    .dataframe tbody tr th {\n",
              "        vertical-align: top;\n",
              "    }\n",
              "\n",
              "    .dataframe thead th {\n",
              "        text-align: right;\n",
              "    }\n",
              "</style>\n",
              "<table border=\"1\" class=\"dataframe\">\n",
              "  <thead>\n",
              "    <tr style=\"text-align: right;\">\n",
              "      <th></th>\n",
              "      <th>id</th>\n",
              "      <th>gender</th>\n",
              "      <th>masterCategory</th>\n",
              "      <th>subCategory</th>\n",
              "      <th>articleType</th>\n",
              "      <th>baseColour</th>\n",
              "      <th>season</th>\n",
              "      <th>year</th>\n",
              "      <th>usage</th>\n",
              "      <th>productDisplayName</th>\n",
              "      <th>image</th>\n",
              "    </tr>\n",
              "  </thead>\n",
              "  <tbody>\n",
              "    <tr>\n",
              "      <th>0</th>\n",
              "      <td>15970</td>\n",
              "      <td>Men</td>\n",
              "      <td>Apparel</td>\n",
              "      <td>Topwear</td>\n",
              "      <td>Shirts</td>\n",
              "      <td>Navy Blue</td>\n",
              "      <td>Fall</td>\n",
              "      <td>2011.0</td>\n",
              "      <td>Casual</td>\n",
              "      <td>Turtle Check Men Navy Blue Shirt</td>\n",
              "      <td>15970.jpg</td>\n",
              "    </tr>\n",
              "    <tr>\n",
              "      <th>1</th>\n",
              "      <td>39386</td>\n",
              "      <td>Men</td>\n",
              "      <td>Apparel</td>\n",
              "      <td>Bottomwear</td>\n",
              "      <td>Jeans</td>\n",
              "      <td>Blue</td>\n",
              "      <td>Summer</td>\n",
              "      <td>2012.0</td>\n",
              "      <td>Casual</td>\n",
              "      <td>Peter England Men Party Blue Jeans</td>\n",
              "      <td>39386.jpg</td>\n",
              "    </tr>\n",
              "    <tr>\n",
              "      <th>2</th>\n",
              "      <td>59263</td>\n",
              "      <td>Women</td>\n",
              "      <td>Accessories</td>\n",
              "      <td>Watches</td>\n",
              "      <td>Watches</td>\n",
              "      <td>Silver</td>\n",
              "      <td>Winter</td>\n",
              "      <td>2016.0</td>\n",
              "      <td>Casual</td>\n",
              "      <td>Titan Women Silver Watch</td>\n",
              "      <td>59263.jpg</td>\n",
              "    </tr>\n",
              "    <tr>\n",
              "      <th>3</th>\n",
              "      <td>21379</td>\n",
              "      <td>Men</td>\n",
              "      <td>Apparel</td>\n",
              "      <td>Bottomwear</td>\n",
              "      <td>Track Pants</td>\n",
              "      <td>Black</td>\n",
              "      <td>Fall</td>\n",
              "      <td>2011.0</td>\n",
              "      <td>Casual</td>\n",
              "      <td>Manchester United Men Solid Black Track Pants</td>\n",
              "      <td>21379.jpg</td>\n",
              "    </tr>\n",
              "    <tr>\n",
              "      <th>4</th>\n",
              "      <td>53759</td>\n",
              "      <td>Men</td>\n",
              "      <td>Apparel</td>\n",
              "      <td>Topwear</td>\n",
              "      <td>Tshirts</td>\n",
              "      <td>Grey</td>\n",
              "      <td>Summer</td>\n",
              "      <td>2012.0</td>\n",
              "      <td>Casual</td>\n",
              "      <td>Puma Men Grey T-shirt</td>\n",
              "      <td>53759.jpg</td>\n",
              "    </tr>\n",
              "  </tbody>\n",
              "</table>\n",
              "</div>\n",
              "      <button class=\"colab-df-convert\" onclick=\"convertToInteractive('df-972c016a-e574-48d2-a003-02598f617cbb')\"\n",
              "              title=\"Convert this dataframe to an interactive table.\"\n",
              "              style=\"display:none;\">\n",
              "        \n",
              "  <svg xmlns=\"http://www.w3.org/2000/svg\" height=\"24px\"viewBox=\"0 0 24 24\"\n",
              "       width=\"24px\">\n",
              "    <path d=\"M0 0h24v24H0V0z\" fill=\"none\"/>\n",
              "    <path d=\"M18.56 5.44l.94 2.06.94-2.06 2.06-.94-2.06-.94-.94-2.06-.94 2.06-2.06.94zm-11 1L8.5 8.5l.94-2.06 2.06-.94-2.06-.94L8.5 2.5l-.94 2.06-2.06.94zm10 10l.94 2.06.94-2.06 2.06-.94-2.06-.94-.94-2.06-.94 2.06-2.06.94z\"/><path d=\"M17.41 7.96l-1.37-1.37c-.4-.4-.92-.59-1.43-.59-.52 0-1.04.2-1.43.59L10.3 9.45l-7.72 7.72c-.78.78-.78 2.05 0 2.83L4 21.41c.39.39.9.59 1.41.59.51 0 1.02-.2 1.41-.59l7.78-7.78 2.81-2.81c.8-.78.8-2.07 0-2.86zM5.41 20L4 18.59l7.72-7.72 1.47 1.35L5.41 20z\"/>\n",
              "  </svg>\n",
              "      </button>\n",
              "      \n",
              "  <style>\n",
              "    .colab-df-container {\n",
              "      display:flex;\n",
              "      flex-wrap:wrap;\n",
              "      gap: 12px;\n",
              "    }\n",
              "\n",
              "    .colab-df-convert {\n",
              "      background-color: #E8F0FE;\n",
              "      border: none;\n",
              "      border-radius: 50%;\n",
              "      cursor: pointer;\n",
              "      display: none;\n",
              "      fill: #1967D2;\n",
              "      height: 32px;\n",
              "      padding: 0 0 0 0;\n",
              "      width: 32px;\n",
              "    }\n",
              "\n",
              "    .colab-df-convert:hover {\n",
              "      background-color: #E2EBFA;\n",
              "      box-shadow: 0px 1px 2px rgba(60, 64, 67, 0.3), 0px 1px 3px 1px rgba(60, 64, 67, 0.15);\n",
              "      fill: #174EA6;\n",
              "    }\n",
              "\n",
              "    [theme=dark] .colab-df-convert {\n",
              "      background-color: #3B4455;\n",
              "      fill: #D2E3FC;\n",
              "    }\n",
              "\n",
              "    [theme=dark] .colab-df-convert:hover {\n",
              "      background-color: #434B5C;\n",
              "      box-shadow: 0px 1px 3px 1px rgba(0, 0, 0, 0.15);\n",
              "      filter: drop-shadow(0px 1px 2px rgba(0, 0, 0, 0.3));\n",
              "      fill: #FFFFFF;\n",
              "    }\n",
              "  </style>\n",
              "\n",
              "      <script>\n",
              "        const buttonEl =\n",
              "          document.querySelector('#df-972c016a-e574-48d2-a003-02598f617cbb button.colab-df-convert');\n",
              "        buttonEl.style.display =\n",
              "          google.colab.kernel.accessAllowed ? 'block' : 'none';\n",
              "\n",
              "        async function convertToInteractive(key) {\n",
              "          const element = document.querySelector('#df-972c016a-e574-48d2-a003-02598f617cbb');\n",
              "          const dataTable =\n",
              "            await google.colab.kernel.invokeFunction('convertToInteractive',\n",
              "                                                     [key], {});\n",
              "          if (!dataTable) return;\n",
              "\n",
              "          const docLinkHtml = 'Like what you see? Visit the ' +\n",
              "            '<a target=\"_blank\" href=https://colab.research.google.com/notebooks/data_table.ipynb>data table notebook</a>'\n",
              "            + ' to learn more about interactive tables.';\n",
              "          element.innerHTML = '';\n",
              "          dataTable['output_type'] = 'display_data';\n",
              "          await google.colab.output.renderOutput(dataTable, element);\n",
              "          const docLink = document.createElement('div');\n",
              "          docLink.innerHTML = docLinkHtml;\n",
              "          element.appendChild(docLink);\n",
              "        }\n",
              "      </script>\n",
              "    </div>\n",
              "  </div>\n",
              "  "
            ]
          },
          "metadata": {},
          "execution_count": 11
        }
      ],
      "source": [
        "df = pd.read_csv(DATASET_PATH+\"/styles.csv\", error_bad_lines = False)\n",
        "df['image'] = df.apply(lambda row:str(row['id'])+\".jpg\",axis = 1).reset_index(drop = True)\n",
        "df.head()"
      ]
    },
    {
      "cell_type": "code",
      "source": [
        "unique, counts = np.unique(df.subCategory, return_counts=True)\n",
        "sns.barplot(x=counts, y=unique)\n",
        "None"
      ],
      "metadata": {
        "colab": {
          "base_uri": "https://localhost:8080/",
          "height": 428
        },
        "id": "hQVMq8VyhZkM",
        "outputId": "02c26647-57c8-41bd-b7bd-a0746d658b90"
      },
      "execution_count": null,
      "outputs": [
        {
          "output_type": "display_data",
          "data": {
            "text/plain": [
              "<Figure size 640x480 with 1 Axes>"
            ],
            "image/png": "[encoded data removed]"
          },
          "metadata": {}
        }
      ]
    },
    {
      "cell_type": "code",
      "source": [
        "df_uniques = pd.DataFrame({'unique': unique, 'counts': counts}).sort_values('counts', ascending=False)\n",
        "df_uniques"
      ],
      "metadata": {
        "colab": {
          "base_uri": "https://localhost:8080/",
          "height": 1000
        },
        "id": "PldTW5iTiwrF",
        "outputId": "3a71c02d-58b4-4c21-b8e5-348c67201f60"
      },
      "execution_count": null,
      "outputs": [
        {
          "output_type": "execute_result",
          "data": {
            "text/plain": [
              "                      unique  counts\n",
              "38                   Topwear   15402\n",
              "30                     Shoes    7343\n",
              "2                       Bags    3055\n",
              "6                 Bottomwear    2694\n",
              "42                   Watches    2542\n",
              "18                 Innerwear    1808\n",
              "19                 Jewellery    1079\n",
              "10                   Eyewear    1073\n",
              "12                 Fragrance    1011\n",
              "26                    Sandal     963\n",
              "41                   Wallets     933\n",
              "11                Flip Flops     913\n",
              "5                      Belts     811\n",
              "33                     Socks     698\n",
              "20                      Lips     527\n",
              "8                      Dress     478\n",
              "21  Loungewear and Nightwear     470\n",
              "27                     Saree     427\n",
              "24                     Nails     329\n",
              "22                    Makeup     307\n",
              "16                  Headwear     293\n",
              "37                      Ties     258\n",
              "0                Accessories     129\n",
              "28                   Scarves     118\n",
              "7                  Cufflinks     108\n",
              "1                Apparel Set     106\n",
              "13                Free Gifts     104\n",
              "36                    Stoles      90\n",
              "32                 Skin Care      77\n",
              "31                      Skin      69\n",
              "9                       Eyes      43\n",
              "23                  Mufflers      38\n",
              "29          Shoe Accessories      24\n",
              "35          Sports Equipment      21\n",
              "14                    Gloves      20\n",
              "15                      Hair      19\n",
              "3              Bath and Body      12\n",
              "43              Water Bottle       7\n",
              "25                  Perfumes       6\n",
              "39                 Umbrellas       6\n",
              "4         Beauty Accessories       4\n",
              "44                Wristbands       4\n",
              "34        Sports Accessories       3\n",
              "40                  Vouchers       1\n",
              "17           Home Furnishing       1"
            ],
            "text/html": [
              "\n",
              "  <div id=\"df-cd0dbad8-f436-4d0b-8438-484147e45bbf\">\n",
              "    <div class=\"colab-df-container\">\n",
              "      <div>\n",
              "<style scoped>\n",
              "    .dataframe tbody tr th:only-of-type {\n",
              "        vertical-align: middle;\n",
              "    }\n",
              "\n",
              "    .dataframe tbody tr th {\n",
              "        vertical-align: top;\n",
              "    }\n",
              "\n",
              "    .dataframe thead th {\n",
              "        text-align: right;\n",
              "    }\n",
              "</style>\n",
              "<table border=\"1\" class=\"dataframe\">\n",
              "  <thead>\n",
              "    <tr style=\"text-align: right;\">\n",
              "      <th></th>\n",
              "      <th>unique</th>\n",
              "      <th>counts</th>\n",
              "    </tr>\n",
              "  </thead>\n",
              "  <tbody>\n",
              "    <tr>\n",
              "      <th>38</th>\n",
              "      <td>Topwear</td>\n",
              "      <td>15402</td>\n",
              "    </tr>\n",
              "    <tr>\n",
              "      <th>30</th>\n",
              "      <td>Shoes</td>\n",
              "      <td>7343</td>\n",
              "    </tr>\n",
              "    <tr>\n",
              "      <th>2</th>\n",
              "      <td>Bags</td>\n",
              "      <td>3055</td>\n",
              "    </tr>\n",
              "    <tr>\n",
              "      <th>6</th>\n",
              "      <td>Bottomwear</td>\n",
              "      <td>2694</td>\n",
              "    </tr>\n",
              "    <tr>\n",
              "      <th>42</th>\n",
              "      <td>Watches</td>\n",
              "      <td>2542</td>\n",
              "    </tr>\n",
              "    <tr>\n",
              "      <th>18</th>\n",
              "      <td>Innerwear</td>\n",
              "      <td>1808</td>\n",
              "    </tr>\n",
              "    <tr>\n",
              "      <th>19</th>\n",
              "      <td>Jewellery</td>\n",
              "      <td>1079</td>\n",
              "    </tr>\n",
              "    <tr>\n",
              "      <th>10</th>\n",
              "      <td>Eyewear</td>\n",
              "      <td>1073</td>\n",
              "    </tr>\n",
              "    <tr>\n",
              "      <th>12</th>\n",
              "      <td>Fragrance</td>\n",
              "      <td>1011</td>\n",
              "    </tr>\n",
              "    <tr>\n",
              "      <th>26</th>\n",
              "      <td>Sandal</td>\n",
              "      <td>963</td>\n",
              "    </tr>\n",
              "    <tr>\n",
              "      <th>41</th>\n",
              "      <td>Wallets</td>\n",
              "      <td>933</td>\n",
              "    </tr>\n",
              "    <tr>\n",
              "      <th>11</th>\n",
              "      <td>Flip Flops</td>\n",
              "      <td>913</td>\n",
              "    </tr>\n",
              "    <tr>\n",
              "      <th>5</th>\n",
              "      <td>Belts</td>\n",
              "      <td>811</td>\n",
              "    </tr>\n",
              "    <tr>\n",
              "      <th>33</th>\n",
              "      <td>Socks</td>\n",
              "      <td>698</td>\n",
              "    </tr>\n",
              "    <tr>\n",
              "      <th>20</th>\n",
              "      <td>Lips</td>\n",
              "      <td>527</td>\n",
              "    </tr>\n",
              "    <tr>\n",
              "      <th>8</th>\n",
              "      <td>Dress</td>\n",
              "      <td>478</td>\n",
              "    </tr>\n",
              "    <tr>\n",
              "      <th>21</th>\n",
              "      <td>Loungewear and Nightwear</td>\n",
              "      <td>470</td>\n",
              "    </tr>\n",
              "    <tr>\n",
              "      <th>27</th>\n",
              "      <td>Saree</td>\n",
              "      <td>427</td>\n",
              "    </tr>\n",
              "    <tr>\n",
              "      <th>24</th>\n",
              "      <td>Nails</td>\n",
              "      <td>329</td>\n",
              "    </tr>\n",
              "    <tr>\n",
              "      <th>22</th>\n",
              "      <td>Makeup</td>\n",
              "      <td>307</td>\n",
              "    </tr>\n",
              "    <tr>\n",
              "      <th>16</th>\n",
              "      <td>Headwear</td>\n",
              "      <td>293</td>\n",
              "    </tr>\n",
              "    <tr>\n",
              "      <th>37</th>\n",
              "      <td>Ties</td>\n",
              "      <td>258</td>\n",
              "    </tr>\n",
              "    <tr>\n",
              "      <th>0</th>\n",
              "      <td>Accessories</td>\n",
              "      <td>129</td>\n",
              "    </tr>\n",
              "    <tr>\n",
              "      <th>28</th>\n",
              "      <td>Scarves</td>\n",
              "      <td>118</td>\n",
              "    </tr>\n",
              "    <tr>\n",
              "      <th>7</th>\n",
              "      <td>Cufflinks</td>\n",
              "      <td>108</td>\n",
              "    </tr>\n",
              "    <tr>\n",
              "      <th>1</th>\n",
              "      <td>Apparel Set</td>\n",
              "      <td>106</td>\n",
              "    </tr>\n",
              "    <tr>\n",
              "      <th>13</th>\n",
              "      <td>Free Gifts</td>\n",
              "      <td>104</td>\n",
              "    </tr>\n",
              "    <tr>\n",
              "      <th>36</th>\n",
              "      <td>Stoles</td>\n",
              "      <td>90</td>\n",
              "    </tr>\n",
              "    <tr>\n",
              "      <th>32</th>\n",
              "      <td>Skin Care</td>\n",
              "      <td>77</td>\n",
              "    </tr>\n",
              "    <tr>\n",
              "      <th>31</th>\n",
              "      <td>Skin</td>\n",
              "      <td>69</td>\n",
              "    </tr>\n",
              "    <tr>\n",
              "      <th>9</th>\n",
              "      <td>Eyes</td>\n",
              "      <td>43</td>\n",
              "    </tr>\n",
              "    <tr>\n",
              "      <th>23</th>\n",
              "      <td>Mufflers</td>\n",
              "      <td>38</td>\n",
              "    </tr>\n",
              "    <tr>\n",
              "      <th>29</th>\n",
              "      <td>Shoe Accessories</td>\n",
              "      <td>24</td>\n",
              "    </tr>\n",
              "    <tr>\n",
              "      <th>35</th>\n",
              "      <td>Sports Equipment</td>\n",
              "      <td>21</td>\n",
              "    </tr>\n",
              "    <tr>\n",
              "      <th>14</th>\n",
              "      <td>Gloves</td>\n",
              "      <td>20</td>\n",
              "    </tr>\n",
              "    <tr>\n",
              "      <th>15</th>\n",
              "      <td>Hair</td>\n",
              "      <td>19</td>\n",
              "    </tr>\n",
              "    <tr>\n",
              "      <th>3</th>\n",
              "      <td>Bath and Body</td>\n",
              "      <td>12</td>\n",
              "    </tr>\n",
              "    <tr>\n",
              "      <th>43</th>\n",
              "      <td>Water Bottle</td>\n",
              "      <td>7</td>\n",
              "    </tr>\n",
              "    <tr>\n",
              "      <th>25</th>\n",
              "      <td>Perfumes</td>\n",
              "      <td>6</td>\n",
              "    </tr>\n",
              "    <tr>\n",
              "      <th>39</th>\n",
              "      <td>Umbrellas</td>\n",
              "      <td>6</td>\n",
              "    </tr>\n",
              "    <tr>\n",
              "      <th>4</th>\n",
              "      <td>Beauty Accessories</td>\n",
              "      <td>4</td>\n",
              "    </tr>\n",
              "    <tr>\n",
              "      <th>44</th>\n",
              "      <td>Wristbands</td>\n",
              "      <td>4</td>\n",
              "    </tr>\n",
              "    <tr>\n",
              "      <th>34</th>\n",
              "      <td>Sports Accessories</td>\n",
              "      <td>3</td>\n",
              "    </tr>\n",
              "    <tr>\n",
              "      <th>40</th>\n",
              "      <td>Vouchers</td>\n",
              "      <td>1</td>\n",
              "    </tr>\n",
              "    <tr>\n",
              "      <th>17</th>\n",
              "      <td>Home Furnishing</td>\n",
              "      <td>1</td>\n",
              "    </tr>\n",
              "  </tbody>\n",
              "</table>\n",
              "</div>\n",
              "      <button class=\"colab-df-convert\" onclick=\"convertToInteractive('df-cd0dbad8-f436-4d0b-8438-484147e45bbf')\"\n",
              "              title=\"Convert this dataframe to an interactive table.\"\n",
              "              style=\"display:none;\">\n",
              "        \n",
              "  <svg xmlns=\"http://www.w3.org/2000/svg\" height=\"24px\"viewBox=\"0 0 24 24\"\n",
              "       width=\"24px\">\n",
              "    <path d=\"M0 0h24v24H0V0z\" fill=\"none\"/>\n",
              "    <path d=\"M18.56 5.44l.94 2.06.94-2.06 2.06-.94-2.06-.94-.94-2.06-.94 2.06-2.06.94zm-11 1L8.5 8.5l.94-2.06 2.06-.94-2.06-.94L8.5 2.5l-.94 2.06-2.06.94zm10 10l.94 2.06.94-2.06 2.06-.94-2.06-.94-.94-2.06-.94 2.06-2.06.94z\"/><path d=\"M17.41 7.96l-1.37-1.37c-.4-.4-.92-.59-1.43-.59-.52 0-1.04.2-1.43.59L10.3 9.45l-7.72 7.72c-.78.78-.78 2.05 0 2.83L4 21.41c.39.39.9.59 1.41.59.51 0 1.02-.2 1.41-.59l7.78-7.78 2.81-2.81c.8-.78.8-2.07 0-2.86zM5.41 20L4 18.59l7.72-7.72 1.47 1.35L5.41 20z\"/>\n",
              "  </svg>\n",
              "      </button>\n",
              "      \n",
              "  <style>\n",
              "    .colab-df-container {\n",
              "      display:flex;\n",
              "      flex-wrap:wrap;\n",
              "      gap: 12px;\n",
              "    }\n",
              "\n",
              "    .colab-df-convert {\n",
              "      background-color: #E8F0FE;\n",
              "      border: none;\n",
              "      border-radius: 50%;\n",
              "      cursor: pointer;\n",
              "      display: none;\n",
              "      fill: #1967D2;\n",
              "      height: 32px;\n",
              "      padding: 0 0 0 0;\n",
              "      width: 32px;\n",
              "    }\n",
              "\n",
              "    .colab-df-convert:hover {\n",
              "      background-color: #E2EBFA;\n",
              "      box-shadow: 0px 1px 2px rgba(60, 64, 67, 0.3), 0px 1px 3px 1px rgba(60, 64, 67, 0.15);\n",
              "      fill: #174EA6;\n",
              "    }\n",
              "\n",
              "    [theme=dark] .colab-df-convert {\n",
              "      background-color: #3B4455;\n",
              "      fill: #D2E3FC;\n",
              "    }\n",
              "\n",
              "    [theme=dark] .colab-df-convert:hover {\n",
              "      background-color: #434B5C;\n",
              "      box-shadow: 0px 1px 3px 1px rgba(0, 0, 0, 0.15);\n",
              "      filter: drop-shadow(0px 1px 2px rgba(0, 0, 0, 0.3));\n",
              "      fill: #FFFFFF;\n",
              "    }\n",
              "  </style>\n",
              "\n",
              "      <script>\n",
              "        const buttonEl =\n",
              "          document.querySelector('#df-cd0dbad8-f436-4d0b-8438-484147e45bbf button.colab-df-convert');\n",
              "        buttonEl.style.display =\n",
              "          google.colab.kernel.accessAllowed ? 'block' : 'none';\n",
              "\n",
              "        async function convertToInteractive(key) {\n",
              "          const element = document.querySelector('#df-cd0dbad8-f436-4d0b-8438-484147e45bbf');\n",
              "          const dataTable =\n",
              "            await google.colab.kernel.invokeFunction('convertToInteractive',\n",
              "                                                     [key], {});\n",
              "          if (!dataTable) return;\n",
              "\n",
              "          const docLinkHtml = 'Like what you see? Visit the ' +\n",
              "            '<a target=\"_blank\" href=https://colab.research.google.com/notebooks/data_table.ipynb>data table notebook</a>'\n",
              "            + ' to learn more about interactive tables.';\n",
              "          element.innerHTML = '';\n",
              "          dataTable['output_type'] = 'display_data';\n",
              "          await google.colab.output.renderOutput(dataTable, element);\n",
              "          const docLink = document.createElement('div');\n",
              "          docLink.innerHTML = docLinkHtml;\n",
              "          element.appendChild(docLink);\n",
              "        }\n",
              "      </script>\n",
              "    </div>\n",
              "  </div>\n",
              "  "
            ]
          },
          "metadata": {},
          "execution_count": 13
        }
      ]
    },
    {
      "cell_type": "markdown",
      "source": [
        "Уберем из датасета классы, которые встречаются меньше 200 раз"
      ],
      "metadata": {
        "id": "skNA8ZakCI6W"
      }
    },
    {
      "cell_type": "code",
      "source": [
        "df = df[df['subCategory'].isin(df_uniques[df_uniques.counts > 200].unique)]"
      ],
      "metadata": {
        "id": "ZDKxuV1oCNeu"
      },
      "execution_count": null,
      "outputs": []
    },
    {
      "cell_type": "code",
      "source": [
        "unique, counts = np.unique(df.subCategory, return_counts=True)\n",
        "sns.barplot(x=counts, y=unique)\n",
        "None"
      ],
      "metadata": {
        "colab": {
          "base_uri": "https://localhost:8080/",
          "height": 428
        },
        "id": "WeGQA7lHCt24",
        "outputId": "a3765dc9-236f-4988-ef35-d668e81a6e83"
      },
      "execution_count": null,
      "outputs": [
        {
          "output_type": "display_data",
          "data": {
            "text/plain": [
              "<Figure size 640x480 with 1 Axes>"
            ],
            "image/png": "[encoded data removed]"
          },
          "metadata": {}
        }
      ]
    },
    {
      "cell_type": "code",
      "source": [
        "from keras_preprocessing.image import ImageDataGenerator\n",
        "\n",
        "image_generator = ImageDataGenerator(\n",
        "    validation_split=0.2\n",
        ")\n",
        "\n",
        "training_generator = image_generator.flow_from_dataframe(\n",
        "    dataframe=df,\n",
        "    directory=DATASET_PATH + \"images\",\n",
        "    x_col=\"image\",\n",
        "    y_col=\"subCategory\",\n",
        "    target_size=(96,96),\n",
        "    batch_size=128,\n",
        "    subset=\"training\"\n",
        ")\n",
        "\n",
        "validation_generator = image_generator.flow_from_dataframe(\n",
        "    dataframe=df,\n",
        "    directory=DATASET_PATH + \"images\",\n",
        "    x_col=\"image\",\n",
        "    y_col=\"subCategory\",\n",
        "    target_size=(96,96),\n",
        "    batch_size=128,\n",
        "    subset=\"validation\"\n",
        ")\n",
        "\n",
        "classes = len(training_generator.class_indices)"
      ],
      "metadata": {
        "colab": {
          "base_uri": "https://localhost:8080/"
        },
        "id": "uOnf2pg0tZgq",
        "outputId": "3d1f6a36-7784-4444-caa9-be9bbcbff910"
      },
      "execution_count": null,
      "outputs": [
        {
          "output_type": "stream",
          "name": "stdout",
          "text": [
            "Found 34728 validated image filenames belonging to 22 classes.\n",
            "Found 8681 validated image filenames belonging to 22 classes.\n"
          ]
        }
      ]
    },
    {
      "cell_type": "markdown",
      "source": [
        "# Надстройки"
      ],
      "metadata": {
        "id": "w3voJKfxK9B1"
      }
    },
    {
      "cell_type": "code",
      "source": [
        "import time\n",
        "\n",
        "class TimeHistory(keras.callbacks.Callback):\n",
        "    def on_train_begin(self, logs={}):\n",
        "        self.times = []\n",
        "\n",
        "    def on_epoch_begin(self, batch, logs={}):\n",
        "        self.epoch_time_start = time.time()\n",
        "\n",
        "    def on_epoch_end(self, batch, logs={}):\n",
        "        self.times.append(time.time() - self.epoch_time_start)\n",
        "\n",
        "class myCallback(tf.keras.callbacks.Callback):\n",
        "  def on_epoch_end(self, epoch, logs={}):\n",
        "    if logs.get('accuracy') > 0.995:\n",
        "      print(\"\\nReached 99.5% accuracy so cancelling training!\")\n",
        "      self.model.stop_training = True"
      ],
      "metadata": {
        "id": "jUInwDhVyKQ5"
      },
      "execution_count": null,
      "outputs": []
    },
    {
      "cell_type": "code",
      "source": [
        "input_size = (96, 96, 3)"
      ],
      "metadata": {
        "id": "BTCkuUfwBFxS"
      },
      "execution_count": null,
      "outputs": []
    },
    {
      "cell_type": "code",
      "source": [
        "batch_size = 32\n",
        "epochs = 5"
      ],
      "metadata": {
        "id": "ZKg9PwwoiS-N"
      },
      "execution_count": null,
      "outputs": []
    },
    {
      "cell_type": "markdown",
      "source": [
        "# Обучение на большом количестве данных"
      ],
      "metadata": {
        "id": "2z7n-8eSK3xm"
      }
    },
    {
      "cell_type": "code",
      "execution_count": null,
      "metadata": {
        "colab": {
          "base_uri": "https://localhost:8080/"
        },
        "id": "x0buC9RXW-kf",
        "outputId": "38157153-8121-4bc3-db2f-825a7bd84653"
      },
      "outputs": [
        {
          "output_type": "stream",
          "name": "stdout",
          "text": [
            "Downloading data from https://storage.googleapis.com/tensorflow/keras-applications/resnet/resnet50_weights_tf_dim_ordering_tf_kernels_notop.h5\n",
            "94765736/94765736 [==============================] - 8s 0us/step\n",
            "Model: \"sequential\"\n",
            "_________________________________________________________________\n",
            " Layer (type)                Output Shape              Param #   \n",
            "=================================================================\n",
            " resnet50 (Functional)       (None, 3, 3, 2048)        23587712  \n",
            "                                                                 \n",
            " global_max_pooling2d (Globa  (None, 2048)             0         \n",
            " lMaxPooling2D)                                                  \n",
            "                                                                 \n",
            " dense (Dense)               (None, 22)                45078     \n",
            "                                                                 \n",
            "=================================================================\n",
            "Total params: 23,632,790\n",
            "Trainable params: 45,078\n",
            "Non-trainable params: 23,587,712\n",
            "_________________________________________________________________\n"
          ]
        }
      ],
      "source": [
        "model_ResNet50 = ResNet50(weights = 'imagenet',\n",
        "                   include_top = False,\n",
        "                   input_shape = input_size)\n",
        "model_ResNet50.trainable = False\n",
        "\n",
        "# Adding Embedding Layer\n",
        "model_ResNet50 = tf.keras.models.Sequential([\n",
        "    model_ResNet50,\n",
        "    GlobalMaxPooling2D(),\n",
        "    Dense(classes, activation='softmax')\n",
        "])\n",
        "\n",
        "model_ResNet50.compile(optimizer='adam', loss='categorical_crossentropy', metrics=['accuracy'])\n",
        "\n",
        "model_ResNet50.summary()"
      ]
    },
    {
      "cell_type": "code",
      "source": [
        "from math import floor\n",
        "\n",
        "time_callback = TimeHistory()\n",
        "callbacks = myCallback()\n",
        "\n",
        "history = model_ResNet50.fit_generator(\n",
        "    generator=training_generator,\n",
        "    steps_per_epoch=batch_size,\n",
        "\n",
        "    validation_data=validation_generator,\n",
        "    validation_steps=batch_size/2,\n",
        "\n",
        "    epochs=epochs,\n",
        "    verbose=1,\n",
        "\n",
        "    callbacks=[time_callback, callbacks]\n",
        ")"
      ],
      "metadata": {
        "colab": {
          "base_uri": "https://localhost:8080/"
        },
        "id": "0Ro88xGrwkM_",
        "outputId": "0c0bb6ba-dfe0-476e-f892-ccd0cf535406"
      },
      "execution_count": null,
      "outputs": [
        {
          "output_type": "stream",
          "name": "stdout",
          "text": [
            "Epoch 1/5\n",
            "32/32 [==============================] - 19s 210ms/step - loss: 1.8685 - accuracy: 0.6616 - val_loss: 0.8938 - val_accuracy: 0.7993\n",
            "Epoch 2/5\n",
            "32/32 [==============================] - 6s 197ms/step - loss: 0.6423 - accuracy: 0.8403 - val_loss: 0.6617 - val_accuracy: 0.8516\n",
            "Epoch 3/5\n",
            "32/32 [==============================] - 5s 157ms/step - loss: 0.5645 - accuracy: 0.8601 - val_loss: 0.4815 - val_accuracy: 0.8560\n",
            "Epoch 4/5\n",
            "32/32 [==============================] - 7s 210ms/step - loss: 0.4730 - accuracy: 0.8799 - val_loss: 0.4769 - val_accuracy: 0.8682\n",
            "Epoch 5/5\n",
            "32/32 [==============================] - 6s 177ms/step - loss: 0.3958 - accuracy: 0.8940 - val_loss: 0.4760 - val_accuracy: 0.8794\n"
          ]
        }
      ]
    },
    {
      "cell_type": "code",
      "source": [
        "print(f'Время обучения: {sum(time_callback.times):.2f} секунды')"
      ],
      "metadata": {
        "colab": {
          "base_uri": "https://localhost:8080/"
        },
        "id": "6UoNdnY4Lvqq",
        "outputId": "01c04b61-35cf-4ea9-f035-5662d668d950"
      },
      "execution_count": null,
      "outputs": [
        {
          "output_type": "stream",
          "name": "stdout",
          "text": [
            "Время обучения: 42.51 секунды\n"
          ]
        }
      ]
    },
    {
      "cell_type": "code",
      "source": [
        "fig, ax = plt.subplots(1, 2, figsize=(15, 5))\n",
        "ax[0].plot(history.history['loss'], color='b', label=\"Training Loss\")\n",
        "ax[0].plot(history.history['val_loss'], color='r', label=\"Validation Loss\",axes =ax[0])\n",
        "legend = ax[0].legend(loc='best', shadow=True)\n",
        "\n",
        "ax[1].plot(history.history['accuracy'], color='b', label=\"Training Accuracy\")\n",
        "ax[1].plot(history.history['val_accuracy'], color='r',label=\"Validation Accuracy\")\n",
        "legend = ax[1].legend(loc='best', shadow=True)"
      ],
      "metadata": {
        "colab": {
          "base_uri": "https://localhost:8080/",
          "height": 444
        },
        "id": "KIkDxX-ez7Za",
        "outputId": "537a0a2f-65d2-49f9-de68-6715d84d4565"
      },
      "execution_count": null,
      "outputs": [
        {
          "output_type": "display_data",
          "data": {
            "text/plain": [
              "<Figure size 1500x500 with 2 Axes>"
            ],
            "image/png": "[encoded data removed]"
          },
          "metadata": {}
        }
      ]
    },
    {
      "cell_type": "code",
      "source": [
        "model_cnn = tf.keras.models.Sequential([\n",
        "    Conv2D(32, (3, 3), activation='relu', input_shape=input_size),\n",
        "    MaxPooling2D((2, 2)),\n",
        "    Conv2D(64, (3, 3), activation='relu'),\n",
        "    MaxPooling2D((2, 2)),\n",
        "    Conv2D(64, (3, 3), activation='relu'),\n",
        "    Flatten(),\n",
        "    Dense(64, activation='relu'),\n",
        "    Dense(classes, activation='softmax')\n",
        "])\n",
        "\n",
        "model_cnn.compile(loss='categorical_crossentropy',\n",
        "              optimizer='adam',\n",
        "              metrics=['accuracy'])\n",
        "\n",
        "model_cnn.summary()"
      ],
      "metadata": {
        "colab": {
          "base_uri": "https://localhost:8080/"
        },
        "id": "IG4rsNFvyxbz",
        "outputId": "f90d2ba5-f0cc-43e2-cbc1-fa6f2064a6c9"
      },
      "execution_count": null,
      "outputs": [
        {
          "output_type": "stream",
          "name": "stdout",
          "text": [
            "Model: \"sequential_1\"\n",
            "_________________________________________________________________\n",
            " Layer (type)                Output Shape              Param #   \n",
            "=================================================================\n",
            " conv2d (Conv2D)             (None, 94, 94, 32)        896       \n",
            "                                                                 \n",
            " max_pooling2d (MaxPooling2D  (None, 47, 47, 32)       0         \n",
            " )                                                               \n",
            "                                                                 \n",
            " conv2d_1 (Conv2D)           (None, 45, 45, 64)        18496     \n",
            "                                                                 \n",
            " max_pooling2d_1 (MaxPooling  (None, 22, 22, 64)       0         \n",
            " 2D)                                                             \n",
            "                                                                 \n",
            " conv2d_2 (Conv2D)           (None, 20, 20, 64)        36928     \n",
            "                                                                 \n",
            " flatten (Flatten)           (None, 25600)             0         \n",
            "                                                                 \n",
            " dense_1 (Dense)             (None, 64)                1638464   \n",
            "                                                                 \n",
            " dense_2 (Dense)             (None, 22)                1430      \n",
            "                                                                 \n",
            "=================================================================\n",
            "Total params: 1,696,214\n",
            "Trainable params: 1,696,214\n",
            "Non-trainable params: 0\n",
            "_________________________________________________________________\n"
          ]
        }
      ]
    },
    {
      "cell_type": "code",
      "source": [
        "time_callback = TimeHistory()\n",
        "callbacks = myCallback()\n",
        "\n",
        "history_cnn = model_cnn.fit_generator(\n",
        "    generator=training_generator,\n",
        "    steps_per_epoch=batch_size,\n",
        "\n",
        "    validation_data=validation_generator,\n",
        "    validation_steps=batch_size/2,\n",
        "\n",
        "    epochs=epochs,\n",
        "    verbose=1,\n",
        "\n",
        "    callbacks=[time_callback, callbacks]\n",
        ")"
      ],
      "metadata": {
        "colab": {
          "base_uri": "https://localhost:8080/"
        },
        "id": "mJ-LaM7EyzH9",
        "outputId": "bd7e5531-8585-46a4-cf87-e6db9e5b94bf"
      },
      "execution_count": null,
      "outputs": [
        {
          "output_type": "stream",
          "name": "stdout",
          "text": [
            "Epoch 1/5\n",
            "32/32 [==============================] - 9s 127ms/step - loss: 19.6895 - accuracy: 0.5347 - val_loss: 0.9441 - val_accuracy: 0.7598\n",
            "Epoch 2/5\n",
            "32/32 [==============================] - 4s 120ms/step - loss: 1.0136 - accuracy: 0.7434 - val_loss: 0.8211 - val_accuracy: 0.7778\n",
            "Epoch 3/5\n",
            "32/32 [==============================] - 4s 113ms/step - loss: 0.7713 - accuracy: 0.7974 - val_loss: 0.6940 - val_accuracy: 0.8115\n",
            "Epoch 4/5\n",
            "32/32 [==============================] - 5s 166ms/step - loss: 0.6838 - accuracy: 0.8171 - val_loss: 0.7486 - val_accuracy: 0.8130\n",
            "Epoch 5/5\n",
            "32/32 [==============================] - 4s 110ms/step - loss: 0.5807 - accuracy: 0.8357 - val_loss: 0.5334 - val_accuracy: 0.8604\n"
          ]
        }
      ]
    },
    {
      "cell_type": "code",
      "source": [
        "print(f'Время обучения: {sum(time_callback.times):.2f} секунды')"
      ],
      "metadata": {
        "colab": {
          "base_uri": "https://localhost:8080/"
        },
        "id": "A_aa5HHnLeJ9",
        "outputId": "fd7e5241-0a22-45c1-d931-8f44dc98974d"
      },
      "execution_count": null,
      "outputs": [
        {
          "output_type": "stream",
          "name": "stdout",
          "text": [
            "Время обучения: 25.52 секунды\n"
          ]
        }
      ]
    },
    {
      "cell_type": "code",
      "source": [
        "fig, ax = plt.subplots(1, 2, figsize=(15, 5))\n",
        "ax[0].plot(history_cnn.history['loss'], color='b', label=\"Training Loss\")\n",
        "ax[0].plot(history_cnn.history['val_loss'], color='r', label=\"Validation Loss\",axes =ax[0])\n",
        "legend = ax[0].legend(loc='best', shadow=True)\n",
        "\n",
        "ax[1].plot(history_cnn.history['accuracy'], color='b', label=\"Training Accuracy\")\n",
        "ax[1].plot(history_cnn.history['val_accuracy'], color='r',label=\"Validation Accuracy\")\n",
        "legend = ax[1].legend(loc='best', shadow=True)"
      ],
      "metadata": {
        "colab": {
          "base_uri": "https://localhost:8080/",
          "height": 444
        },
        "id": "0GfRtsS00AjD",
        "outputId": "7d14fadf-c22b-4d09-f688-aa38cfac6a1d"
      },
      "execution_count": null,
      "outputs": [
        {
          "output_type": "display_data",
          "data": {
            "text/plain": [
              "<Figure size 1500x500 with 2 Axes>"
            ],
            "image/png": "[encoded data removed]"
          },
          "metadata": {}
        }
      ]
    },
    {
      "cell_type": "markdown",
      "source": [
        "# Уменьшение данных"
      ],
      "metadata": {
        "id": "1IbeyBU3BRJD"
      }
    },
    {
      "cell_type": "code",
      "source": [
        "training_generator = image_generator.flow_from_dataframe(\n",
        "    dataframe=df.iloc[:round(df.shape[0] / 4)],\n",
        "    directory=DATASET_PATH + \"images\",\n",
        "    x_col=\"image\",\n",
        "    y_col=\"subCategory\",\n",
        "    target_size=(96,96),\n",
        "    batch_size=128,\n",
        "    subset=\"training\"\n",
        ")\n",
        "\n",
        "validation_generator = image_generator.flow_from_dataframe(\n",
        "    dataframe=df.iloc[:round(df.shape[0] / 4)],\n",
        "    directory=DATASET_PATH + \"images\",\n",
        "    x_col=\"image\",\n",
        "    y_col=\"subCategory\",\n",
        "    target_size=(96,96),\n",
        "    batch_size=128,\n",
        "    subset=\"validation\"\n",
        ")\n",
        "\n",
        "classes = len(training_generator.class_indices)"
      ],
      "metadata": {
        "colab": {
          "base_uri": "https://localhost:8080/"
        },
        "id": "U-Wiw_TZAb3y",
        "outputId": "904fcf1f-24a1-4b0b-f99e-490cb3e181a4"
      },
      "execution_count": null,
      "outputs": [
        {
          "output_type": "stream",
          "name": "stdout",
          "text": [
            "Found 8683 validated image filenames belonging to 22 classes.\n",
            "Found 2170 validated image filenames belonging to 22 classes.\n"
          ]
        }
      ]
    },
    {
      "cell_type": "markdown",
      "source": [
        "# Обучение на меньших данных"
      ],
      "metadata": {
        "id": "FZ7YXMNOBRts"
      }
    },
    {
      "cell_type": "code",
      "execution_count": null,
      "metadata": {
        "id": "_TW7pYDWBJcb"
      },
      "outputs": [],
      "source": [
        "model_ResNet50 = ResNet50(weights = 'imagenet',\n",
        "                   include_top = False,\n",
        "                   input_shape = input_size)\n",
        "model_ResNet50.trainable = False\n",
        "\n",
        "# Adding Embedding Layer\n",
        "model_ResNet50 = tf.keras.models.Sequential([\n",
        "    model_ResNet50,\n",
        "    GlobalMaxPooling2D(),\n",
        "    Dense(classes, activation='softmax')\n",
        "])\n",
        "\n",
        "model_ResNet50.compile(optimizer='adam', loss='categorical_crossentropy', metrics=['accuracy'])"
      ]
    },
    {
      "cell_type": "code",
      "source": [
        "from math import ceil\n",
        "\n",
        "time_callback = TimeHistory()\n",
        "callbacks = myCallback()\n",
        "\n",
        "history = model_ResNet50.fit_generator(\n",
        "    generator=training_generator,\n",
        "    steps_per_epoch=batch_size,\n",
        "\n",
        "    validation_data=validation_generator,\n",
        "    validation_steps=batch_size / 2,\n",
        "\n",
        "    epochs=epochs,\n",
        "    verbose=1,\n",
        "\n",
        "    callbacks=[time_callback, callbacks]\n",
        ")"
      ],
      "metadata": {
        "colab": {
          "base_uri": "https://localhost:8080/"
        },
        "outputId": "62fcb64d-9313-43ab-a061-6cbe6c7ce0b1",
        "id": "8W5YowWTBJcc"
      },
      "execution_count": null,
      "outputs": [
        {
          "output_type": "stream",
          "name": "stdout",
          "text": [
            "Epoch 1/5\n",
            "32/32 [==============================] - 9s 170ms/step - loss: 2.2632 - accuracy: 0.6335 - val_loss: 0.8907 - val_accuracy: 0.7793\n",
            "Epoch 2/5\n",
            "32/32 [==============================] - 5s 154ms/step - loss: 0.6485 - accuracy: 0.8452 - val_loss: 0.6591 - val_accuracy: 0.8433\n",
            "Epoch 3/5\n",
            "32/32 [==============================] - 5s 160ms/step - loss: 0.4776 - accuracy: 0.8773 - val_loss: 0.5584 - val_accuracy: 0.8594\n",
            "Epoch 4/5\n",
            "32/32 [==============================] - 5s 171ms/step - loss: 0.3802 - accuracy: 0.8977 - val_loss: 0.5810 - val_accuracy: 0.8516\n",
            "Epoch 5/5\n",
            "32/32 [==============================] - 4s 137ms/step - loss: 0.2945 - accuracy: 0.9197 - val_loss: 0.4710 - val_accuracy: 0.8892\n"
          ]
        }
      ]
    },
    {
      "cell_type": "code",
      "source": [
        "print(f'Время обучения: {sum(time_callback.times):.2f} секунды')"
      ],
      "metadata": {
        "colab": {
          "base_uri": "https://localhost:8080/"
        },
        "id": "K2epHfRDLyk4",
        "outputId": "879c6dc1-c581-4d11-9e1f-256bfa2947b9"
      },
      "execution_count": null,
      "outputs": [
        {
          "output_type": "stream",
          "name": "stdout",
          "text": [
            "Время обучения: 28.47 секунды\n"
          ]
        }
      ]
    },
    {
      "cell_type": "code",
      "source": [
        "fig, ax = plt.subplots(1, 2, figsize=(15, 5))\n",
        "ax[0].plot(history.history['loss'], color='b', label=\"Training Loss\")\n",
        "ax[0].plot(history.history['val_loss'], color='r', label=\"Validation Loss\",axes =ax[0])\n",
        "legend = ax[0].legend(loc='best', shadow=True)\n",
        "\n",
        "ax[1].plot(history.history['accuracy'], color='b', label=\"Training Accuracy\")\n",
        "ax[1].plot(history.history['val_accuracy'], color='r',label=\"Validation Accuracy\")\n",
        "legend = ax[1].legend(loc='best', shadow=True)"
      ],
      "metadata": {
        "colab": {
          "base_uri": "https://localhost:8080/",
          "height": 444
        },
        "outputId": "1552393f-147f-44ac-e0d6-6cd7a0c7ff69",
        "id": "i6cHVCGVBJcc"
      },
      "execution_count": null,
      "outputs": [
        {
          "output_type": "display_data",
          "data": {
            "text/plain": [
              "<Figure size 1500x500 with 2 Axes>"
            ],
            "image/png": "[encoded data removed]"
          },
          "metadata": {}
        }
      ]
    },
    {
      "cell_type": "code",
      "source": [
        "model_cnn = tf.keras.models.Sequential([\n",
        "    Conv2D(32, (3, 3), activation='relu', input_shape=input_size),\n",
        "    MaxPooling2D((2, 2)),\n",
        "    Conv2D(64, (3, 3), activation='relu'),\n",
        "    MaxPooling2D((2, 2)),\n",
        "    Conv2D(64, (3, 3), activation='relu'),\n",
        "    Flatten(),\n",
        "    Dense(64, activation='relu'),\n",
        "    Dense(classes, activation='softmax')\n",
        "])\n",
        "\n",
        "model_cnn.compile(loss='categorical_crossentropy',\n",
        "              optimizer='adam',\n",
        "              metrics=['accuracy'])"
      ],
      "metadata": {
        "id": "sV-0YDiUBJcd"
      },
      "execution_count": null,
      "outputs": []
    },
    {
      "cell_type": "code",
      "source": [
        "time_callback = TimeHistory()\n",
        "callbacks = myCallback()\n",
        "\n",
        "history_cnn = model_cnn.fit_generator(\n",
        "    generator=training_generator,\n",
        "    steps_per_epoch=batch_size,\n",
        "\n",
        "    validation_data=validation_generator,\n",
        "    validation_steps=batch_size/2,\n",
        "\n",
        "    epochs=epochs,\n",
        "    verbose=1,\n",
        "\n",
        "    callbacks=[time_callback, callbacks]\n",
        ")"
      ],
      "metadata": {
        "colab": {
          "base_uri": "https://localhost:8080/"
        },
        "outputId": "eebef6dd-a0c5-4314-e5a7-79552eb3b0cc",
        "id": "nlUOXoV2BJcd"
      },
      "execution_count": null,
      "outputs": [
        {
          "output_type": "stream",
          "name": "stdout",
          "text": [
            "Epoch 1/5\n",
            "32/32 [==============================] - 7s 139ms/step - loss: 24.6591 - accuracy: 0.4724 - val_loss: 1.0873 - val_accuracy: 0.7197\n",
            "Epoch 2/5\n",
            "32/32 [==============================] - 6s 175ms/step - loss: 1.0954 - accuracy: 0.7183 - val_loss: 0.9845 - val_accuracy: 0.7637\n",
            "Epoch 3/5\n",
            "32/32 [==============================] - 4s 117ms/step - loss: 0.6929 - accuracy: 0.8223 - val_loss: 0.6901 - val_accuracy: 0.8203\n",
            "Epoch 4/5\n",
            "32/32 [==============================] - 6s 199ms/step - loss: 0.4708 - accuracy: 0.8709 - val_loss: 0.6663 - val_accuracy: 0.8330\n",
            "Epoch 5/5\n",
            "32/32 [==============================] - 9s 288ms/step - loss: 0.4442 - accuracy: 0.8852 - val_loss: 0.6479 - val_accuracy: 0.8296\n"
          ]
        }
      ]
    },
    {
      "cell_type": "code",
      "source": [
        "print(f'Время обучения: {sum(time_callback.times):.2f} секунды')"
      ],
      "metadata": {
        "colab": {
          "base_uri": "https://localhost:8080/"
        },
        "id": "stTvU-wLLzY5",
        "outputId": "396c47a6-f05d-42b2-947e-e39c8a1f8ef7"
      },
      "execution_count": null,
      "outputs": [
        {
          "output_type": "stream",
          "name": "stdout",
          "text": [
            "Время обучения: 31.89 секунды\n"
          ]
        }
      ]
    },
    {
      "cell_type": "code",
      "source": [
        "fig, ax = plt.subplots(1, 2, figsize=(15, 5))\n",
        "ax[0].plot(history_cnn.history['loss'], color='b', label=\"Training Loss\")\n",
        "ax[0].plot(history_cnn.history['val_loss'], color='r', label=\"Validation Loss\",axes =ax[0])\n",
        "legend = ax[0].legend(loc='best', shadow=True)\n",
        "\n",
        "ax[1].plot(history_cnn.history['accuracy'], color='b', label=\"Training Accuracy\")\n",
        "ax[1].plot(history_cnn.history['val_accuracy'], color='r',label=\"Validation Accuracy\")\n",
        "legend = ax[1].legend(loc='best', shadow=True)"
      ],
      "metadata": {
        "colab": {
          "base_uri": "https://localhost:8080/",
          "height": 444
        },
        "outputId": "8af8dff1-b204-4af5-fbc0-eda581e680d3",
        "id": "X87vShlYBJce"
      },
      "execution_count": null,
      "outputs": [
        {
          "output_type": "display_data",
          "data": {
            "text/plain": [
              "<Figure size 1500x500 with 2 Axes>"
            ],
            "image/png": "[encoded data removed]"
          },
          "metadata": {}
        }
      ]
    },
    {
      "cell_type": "markdown",
      "source": [
        "# Выводы\n",
        "\n",
        "На большом количестве данных модель ResNet50 превосходит обычную CNN на 12%. Однако на данных в 4 раза меньше сети выходят примерно на один уровень, имея разрыв в 4%.\n",
        "\n",
        "ResNet50: 0.8604 -> 0.8701\n",
        "\n",
        "CNN: 0.7412 -> 0.8374"
      ],
      "metadata": {
        "id": "TfYhXzdgKX3z"
      }
    },
    {
      "cell_type": "markdown",
      "source": [
        "Уменьшение данных также сыграло роль в скорости обучения:\n",
        "\n",
        "ResNet50: 649.68 -> 1147.00 секунд\n",
        "\n",
        "CNN: 202.86 -> 442.81 секунды\n",
        "\n",
        "Показалось странным, что время обучения увеличилось, хотя по логике должно было произойти обратное"
      ],
      "metadata": {
        "id": "FGg6e2fx6KDh"
      }
    },
    {
      "cell_type": "markdown",
      "source": [
        "Однако с GPU результаты изменились:\n",
        "\n",
        "Accuracy:\n",
        "\n",
        "ResNet50: 0.8794 -> 0.8892\n",
        "\n",
        "CNN: 0.8604 -> 0.8296\n",
        "\n",
        "Time:\n",
        "\n",
        "ResNet50: 42.51 -> 28.47 секунд\n",
        "\n",
        "CNN: 25.52 -> 31.89 секунды"
      ],
      "metadata": {
        "id": "Kw4ZgjY9iFtI"
      }
    }
  ],
  "metadata": {
    "colab": {
      "provenance": [],
      "collapsed_sections": [
        "1IbeyBU3BRJD"
      ]
    },
    "kernelspec": {
      "display_name": "Python 3",
      "name": "python3"
    },
    "language_info": {
      "name": "python"
    },
    "accelerator": "GPU",
    "gpuClass": "standard"
  },
  "nbformat": 4,
  "nbformat_minor": 0
}